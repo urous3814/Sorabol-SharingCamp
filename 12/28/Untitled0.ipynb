{
  "nbformat": 4,
  "nbformat_minor": 0,
  "metadata": {
    "colab": {
      "name": "Untitled0.ipynb",
      "provenance": [],
      "authorship_tag": "ABX9TyOrgFtjmXKObv+UwZ83XLUD",
      "include_colab_link": true
    },
    "kernelspec": {
      "name": "python3",
      "display_name": "Python 3"
    },
    "language_info": {
      "name": "python"
    }
  },
  "cells": [
    {
      "cell_type": "markdown",
      "metadata": {
        "id": "view-in-github",
        "colab_type": "text"
      },
      "source": [
        "<a href=\"https://colab.research.google.com/github/urous3814/Sorabol-SharingCamp/blob/main/12/28/Untitled0.ipynb\" target=\"_parent\"><img src=\"https://colab.research.google.com/assets/colab-badge.svg\" alt=\"Open In Colab\"/></a>"
      ]
    },
    {
      "cell_type": "code",
      "execution_count": 1,
      "metadata": {
        "id": "_WohOA5TYw8P"
      },
      "outputs": [],
      "source": [
        "import numpy as np\n",
        "\n",
        "def activation(y):    #활성화함수\n",
        "  if(y>0):\n",
        "    return 1\n",
        "  else :\n",
        "    return 0\n",
        "\n",
        "def perceptron(x, w, b):\n",
        "  return activation(sum(x * w) + b)\n"
      ]
    },
    {
      "cell_type": "code",
      "source": [
        "def AndGate(x): #AND게이트\n",
        "  w = np.array([1, 1])\n",
        "  b = -1\n",
        "  return perceptron(x, w, b)\n",
        "\n",
        "xArray = np.array([[0, 0], [0, 1], [1, 0], [1, 1]])\n",
        "for x in xArray:\n",
        "  print(x, AndGate(x))"
      ],
      "metadata": {
        "colab": {
          "base_uri": "https://localhost:8080/"
        },
        "id": "2uaOSi1dZ6Ne",
        "outputId": "e516fae2-2a24-41f6-aa34-b842e7e123d5"
      },
      "execution_count": 2,
      "outputs": [
        {
          "output_type": "stream",
          "name": "stdout",
          "text": [
            "[0 0] 0\n",
            "[0 1] 0\n",
            "[1 0] 0\n",
            "[1 1] 1\n"
          ]
        }
      ]
    }
  ]
}