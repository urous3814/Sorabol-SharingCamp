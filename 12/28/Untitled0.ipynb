{
  "nbformat": 4,
  "nbformat_minor": 0,
  "metadata": {
    "colab": {
      "name": "Untitled0.ipynb",
      "provenance": [],
      "authorship_tag": "ABX9TyMmj0vCmDSgG6Qe0bN4KC/E",
      "include_colab_link": true
    },
    "kernelspec": {
      "name": "python3",
      "display_name": "Python 3"
    },
    "language_info": {
      "name": "python"
    }
  },
  "cells": [
    {
      "cell_type": "markdown",
      "metadata": {
        "id": "view-in-github",
        "colab_type": "text"
      },
      "source": [
        "<a href=\"https://colab.research.google.com/github/urous3814/Sorabol-SharingCamp/blob/main/12/28/Untitled0.ipynb\" target=\"_parent\"><img src=\"https://colab.research.google.com/assets/colab-badge.svg\" alt=\"Open In Colab\"/></a>"
      ]
    },
    {
      "cell_type": "code",
      "execution_count": 1,
      "metadata": {
        "id": "_WohOA5TYw8P"
      },
      "outputs": [],
      "source": [
        "import numpy as np\n",
        "\n",
        "def activation(y):    #활성화함수\n",
        "  if(y>0):\n",
        "    return 1\n",
        "  else :\n",
        "    return 0\n",
        "\n",
        "def perceptron(x, w, b):\n",
        "  return activation(sum(x * w) + b)\n"
      ]
    },
    {
      "cell_type": "code",
      "source": [
        "def AndGate(x): #AND게이트\n",
        "  w = np.array([1, 1])\n",
        "  b = -1\n",
        "  return perceptron(x, w, b)\n",
        "\n",
        "xArray = np.array([[0, 0], [0, 1], [1, 0], [1, 1]])\n",
        "for x in xArray:\n",
        "  print(x, AndGate(x))"
      ],
      "metadata": {
        "colab": {
          "base_uri": "https://localhost:8080/"
        },
        "id": "2uaOSi1dZ6Ne",
        "outputId": "e516fae2-2a24-41f6-aa34-b842e7e123d5"
      },
      "execution_count": 2,
      "outputs": [
        {
          "output_type": "stream",
          "name": "stdout",
          "text": [
            "[0 0] 0\n",
            "[0 1] 0\n",
            "[1 0] 0\n",
            "[1 1] 1\n"
          ]
        }
      ]
    },
    {
      "cell_type": "code",
      "source": [
        "def OrGate(x): #AND게이트\n",
        "  w = np.array([1, 1])\n",
        "  b = 0\n",
        "  return perceptron(x, w, b)\n",
        "\n",
        "xArray = np.array([[0, 0], [0, 1], [1, 0], [1, 1]])\n",
        "for x in xArray:\n",
        "  print(x, OrGate(x))"
      ],
      "metadata": {
        "colab": {
          "base_uri": "https://localhost:8080/"
        },
        "id": "y4ucpAh8amyl",
        "outputId": "713d0956-75eb-48e4-e7c3-a55a6574985d"
      },
      "execution_count": 3,
      "outputs": [
        {
          "output_type": "stream",
          "name": "stdout",
          "text": [
            "[0 0] 0\n",
            "[0 1] 1\n",
            "[1 0] 1\n",
            "[1 1] 1\n"
          ]
        }
      ]
    },
    {
      "cell_type": "code",
      "source": [
        "def NandGate(x): #AND게이트\n",
        "  w = np.array([-1, -1])\n",
        "  b = 2\n",
        "  return perceptron(x, w, b)\n",
        "\n",
        "xArray = np.array([[0, 0], [0, 1], [1, 0], [1, 1]])\n",
        "for x in xArray:\n",
        "  print(x, NandGate(x))"
      ],
      "metadata": {
        "colab": {
          "base_uri": "https://localhost:8080/"
        },
        "id": "3KRDPjg5at-O",
        "outputId": "45fdd897-819c-4ac6-c0d6-77de76814432"
      },
      "execution_count": 4,
      "outputs": [
        {
          "output_type": "stream",
          "name": "stdout",
          "text": [
            "[0 0] 1\n",
            "[0 1] 1\n",
            "[1 0] 1\n",
            "[1 1] 0\n"
          ]
        }
      ]
    },
    {
      "cell_type": "code",
      "source": [
        "def XorGate(x): #AND게이트\n",
        "  y1 = NandGate(x)\n",
        "  y2 = OrGate(x)\n",
        "  y = np.array([y1, y2])\n",
        "  return(AndGate(y))\n",
        "for x in xArray:\n",
        "  print(x, XorGate(x))"
      ],
      "metadata": {
        "colab": {
          "base_uri": "https://localhost:8080/"
        },
        "id": "3tgZAabaa13m",
        "outputId": "2b575c18-aaa7-4404-ea4a-0fbc187f2249"
      },
      "execution_count": 5,
      "outputs": [
        {
          "output_type": "stream",
          "name": "stdout",
          "text": [
            "[0 0] 0\n",
            "[0 1] 1\n",
            "[1 0] 1\n",
            "[1 1] 0\n"
          ]
        }
      ]
    }
  ]
}