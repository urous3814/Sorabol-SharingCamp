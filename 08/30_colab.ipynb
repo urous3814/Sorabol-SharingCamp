{
  "nbformat": 4,
  "nbformat_minor": 0,
  "metadata": {
    "colab": {
      "name": "Untitled0.ipynb",
      "provenance": [],
      "authorship_tag": "ABX9TyNLOYE6Tc1ePMsZIJtsR+4g",
      "include_colab_link": true
    },
    "kernelspec": {
      "name": "python3",
      "display_name": "Python 3"
    },
    "language_info": {
      "name": "python"
    }
  },
  "cells": [
    {
      "cell_type": "markdown",
      "metadata": {
        "id": "view-in-github",
        "colab_type": "text"
      },
      "source": [
        "<a href=\"https://colab.research.google.com/github/urous3814/Sorabol-SharingCamp/blob/main/08/30_colab.ipynb\" target=\"_parent\"><img src=\"https://colab.research.google.com/assets/colab-badge.svg\" alt=\"Open In Colab\"/></a>"
      ]
    },
    {
      "cell_type": "code",
      "metadata": {
        "colab": {
          "base_uri": "https://localhost:8080/"
        },
        "id": "qF96RVfVhcBP",
        "outputId": "5536b1c5-9e95-4a58-feb0-6969020aee2e"
      },
      "source": [
        "#문자열 슬라이스\n",
        "a = '빅데이터 분석'\n",
        "\n",
        "print(a[0])\n",
        "print(a[1])\n",
        "print(a[-1])\n",
        "print(a[1:3])\n",
        "print(a[:3])\n",
        "print(a[1:])\n",
        "print(a[:])"
      ],
      "execution_count": 1,
      "outputs": [
        {
          "output_type": "stream",
          "text": [
            "빅\n",
            "데\n",
            "석\n",
            "데이\n",
            "빅데이\n",
            "데이터 분석\n",
            "빅데이터 분석\n"
          ],
          "name": "stdout"
        }
      ]
    },
    {
      "cell_type": "code",
      "metadata": {
        "colab": {
          "base_uri": "https://localhost:8080/"
        },
        "id": "S5nFGmY-hjL5",
        "outputId": "555dfd50-1f59-4267-82ac-57e64ca3edf1"
      },
      "source": [
        "#뮨자열 연산\n",
        "a = '나리 나리 개나리'\n",
        "b = '입에 따다 물고요'\n",
        "\n",
        "print(len(a))\n",
        "print('AI' in a)\n",
        "print('AI' not in a)\n",
        "print(a + b)"
      ],
      "execution_count": 2,
      "outputs": [
        {
          "output_type": "stream",
          "text": [
            "9\n",
            "False\n",
            "True\n",
            "나리 나리 개나리입에 따다 물고요\n"
          ],
          "name": "stdout"
        }
      ]
    },
    {
      "cell_type": "code",
      "metadata": {
        "colab": {
          "base_uri": "https://localhost:8080/"
        },
        "id": "zGrZd2T9iXb-",
        "outputId": "f424f241-a0ea-4570-8c05-f0dd36059567"
      },
      "source": [
        "#문자열 분리와 합치기\n",
        "a = '나리 나리 개나리'\n",
        "b = ['a', 'b', 'c' ,'d']\n",
        "print(a.split())\n",
        "print(a.split('나'))\n",
        "print(' '.join(b))\n",
        "print('뽕'.join(a.split('리')))"
      ],
      "execution_count": 7,
      "outputs": [
        {
          "output_type": "stream",
          "text": [
            "['나리', '나리', '개나리']\n",
            "['', '리 ', '리 개', '리']\n",
            "a b c d\n",
            "나뽕 나뽕 개나뽕\n"
          ],
          "name": "stdout"
        }
      ]
    },
    {
      "cell_type": "code",
      "metadata": {
        "colab": {
          "base_uri": "https://localhost:8080/"
        },
        "id": "7ZnNm_hQkDA0",
        "outputId": "b5aa37c3-f5f6-4c55-e1d6-255ce1bc151e"
      },
      "source": [
        "a = 3\n",
        "if a > 1:\n",
        "  a = 100\n",
        "  print(a)\n",
        "  "
      ],
      "execution_count": 8,
      "outputs": [
        {
          "output_type": "stream",
          "text": [
            "100\n"
          ],
          "name": "stdout"
        }
      ]
    },
    {
      "cell_type": "code",
      "metadata": {
        "colab": {
          "base_uri": "https://localhost:8080/"
        },
        "id": "2jywkpdLkpwh",
        "outputId": "a0ef9fba-95dd-42de-be69-3319345d1b36"
      },
      "source": [
        "용돈 = 1000\n",
        "수학성적 = 80\n",
        "if 수학성적 > 70:\n",
        "  용돈 = 10000\n",
        "print(용돈)"
      ],
      "execution_count": 18,
      "outputs": [
        {
          "output_type": "stream",
          "text": [
            "10000\n"
          ],
          "name": "stdout"
        }
      ]
    },
    {
      "cell_type": "code",
      "metadata": {
        "colab": {
          "base_uri": "https://localhost:8080/"
        },
        "id": "UeenQorLlAY9",
        "outputId": "08683d7e-7e92-4256-f56d-0bc8891428a5"
      },
      "source": [
        "a = 5\n",
        "if a > 4:\n",
        "  a = a + 1\n",
        "  print(a)\n",
        "else:\n",
        "  a = a - 1\n",
        "  print(a)"
      ],
      "execution_count": 20,
      "outputs": [
        {
          "output_type": "stream",
          "text": [
            "6\n"
          ],
          "name": "stdout"
        }
      ]
    },
    {
      "cell_type": "code",
      "metadata": {
        "colab": {
          "base_uri": "https://localhost:8080/"
        },
        "id": "AQprnzNdl2na",
        "outputId": "3c5de734-2f44-4289-cd2f-9d7191861a22"
      },
      "source": [
        "#리스트에 있는 원소의 횟수만큼 반복\n",
        "a = [1, 3, 5]\n",
        "for i in a:\n",
        "  print(i)"
      ],
      "execution_count": 21,
      "outputs": [
        {
          "output_type": "stream",
          "text": [
            "1\n",
            "3\n",
            "5\n"
          ],
          "name": "stdout"
        }
      ]
    },
    {
      "cell_type": "code",
      "metadata": {
        "colab": {
          "base_uri": "https://localhost:8080/"
        },
        "id": "Y_QiutMUmZ_g",
        "outputId": "3c0c9b1b-0398-47d5-d400-de9fa10f9593"
      },
      "source": [
        "#range : 리스트를 만드는 함수\n",
        "for i in range(5):\n",
        "  print(i)"
      ],
      "execution_count": 23,
      "outputs": [
        {
          "output_type": "stream",
          "text": [
            "0\n",
            "1\n",
            "2\n",
            "3\n",
            "4\n"
          ],
          "name": "stdout"
        }
      ]
    },
    {
      "cell_type": "code",
      "metadata": {
        "colab": {
          "base_uri": "https://localhost:8080/"
        },
        "id": "shSkbSvAnjQh",
        "outputId": "25f716e6-ee4b-4c31-a95a-9dccc044a671"
      },
      "source": [
        "#두값받아 더해서 반환하는 함수\n",
        "def Sum(a, b):\n",
        "  return a + b, a - b\n",
        "print(Sum(3, 4))\n",
        "print(Sum(5, 7))"
      ],
      "execution_count": 26,
      "outputs": [
        {
          "output_type": "stream",
          "text": [
            "(7, -1)\n",
            "(12, -2)\n"
          ],
          "name": "stdout"
        }
      ]
    }
  ]
}