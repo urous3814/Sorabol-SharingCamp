{
  "nbformat": 4,
  "nbformat_minor": 0,
  "metadata": {
    "colab": {
      "name": "30_colab.ipynb",
      "provenance": [],
      "authorship_tag": "ABX9TyOFm9GbvTX+clQR56x5iuua",
      "include_colab_link": true
    },
    "kernelspec": {
      "name": "python3",
      "display_name": "Python 3"
    },
    "language_info": {
      "name": "python"
    }
  },
  "cells": [
    {
      "cell_type": "markdown",
      "metadata": {
        "id": "view-in-github",
        "colab_type": "text"
      },
      "source": [
        "<a href=\"https://colab.research.google.com/github/urous3814/Sorabol-SharingCamp/blob/main/08/30_colab.ipynb\" target=\"_parent\"><img src=\"https://colab.research.google.com/assets/colab-badge.svg\" alt=\"Open In Colab\"/></a>"
      ]
    },
    {
      "cell_type": "code",
      "metadata": {
        "colab": {
          "base_uri": "https://localhost:8080/"
        },
        "id": "qF96RVfVhcBP",
        "outputId": "5536b1c5-9e95-4a58-feb0-6969020aee2e"
      },
      "source": [
        "#문자열 슬라이스\n",
        "a = '빅데이터 분석'\n",
        "\n",
        "print(a[0])\n",
        "print(a[1])\n",
        "print(a[-1])\n",
        "print(a[1:3])\n",
        "print(a[:3])\n",
        "print(a[1:])\n",
        "print(a[:])"
      ],
      "execution_count": 1,
      "outputs": [
        {
          "output_type": "stream",
          "text": [
            "빅\n",
            "데\n",
            "석\n",
            "데이\n",
            "빅데이\n",
            "데이터 분석\n",
            "빅데이터 분석\n"
          ],
          "name": "stdout"
        }
      ]
    },
    {
      "cell_type": "code",
      "metadata": {
        "colab": {
          "base_uri": "https://localhost:8080/"
        },
        "id": "S5nFGmY-hjL5",
        "outputId": "555dfd50-1f59-4267-82ac-57e64ca3edf1"
      },
      "source": [
        "#뮨자열 연산\n",
        "a = '나리 나리 개나리'\n",
        "b = '입에 따다 물고요'\n",
        "\n",
        "print(len(a))\n",
        "print('AI' in a)\n",
        "print('AI' not in a)\n",
        "print(a + b)"
      ],
      "execution_count": 2,
      "outputs": [
        {
          "output_type": "stream",
          "text": [
            "9\n",
            "False\n",
            "True\n",
            "나리 나리 개나리입에 따다 물고요\n"
          ],
          "name": "stdout"
        }
      ]
    },
    {
      "cell_type": "code",
      "metadata": {
        "colab": {
          "base_uri": "https://localhost:8080/"
        },
        "id": "zGrZd2T9iXb-",
        "outputId": "f424f241-a0ea-4570-8c05-f0dd36059567"
      },
      "source": [
        "#문자열 분리와 합치기\n",
        "a = '나리 나리 개나리'\n",
        "b = ['a', 'b', 'c' ,'d']\n",
        "print(a.split())\n",
        "print(a.split('나'))\n",
        "print(' '.join(b))\n",
        "print('뽕'.join(a.split('리')))"
      ],
      "execution_count": 7,
      "outputs": [
        {
          "output_type": "stream",
          "text": [
            "['나리', '나리', '개나리']\n",
            "['', '리 ', '리 개', '리']\n",
            "a b c d\n",
            "나뽕 나뽕 개나뽕\n"
          ],
          "name": "stdout"
        }
      ]
    },
    {
      "cell_type": "code",
      "metadata": {
        "colab": {
          "base_uri": "https://localhost:8080/"
        },
        "id": "7ZnNm_hQkDA0",
        "outputId": "b5aa37c3-f5f6-4c55-e1d6-255ce1bc151e"
      },
      "source": [
        "a = 3\n",
        "if a > 1:\n",
        "  a = 100\n",
        "  print(a)\n",
        "  "
      ],
      "execution_count": 8,
      "outputs": [
        {
          "output_type": "stream",
          "text": [
            "100\n"
          ],
          "name": "stdout"
        }
      ]
    },
    {
      "cell_type": "code",
      "metadata": {
        "colab": {
          "base_uri": "https://localhost:8080/"
        },
        "id": "2jywkpdLkpwh",
        "outputId": "a0ef9fba-95dd-42de-be69-3319345d1b36"
      },
      "source": [
        "용돈 = 1000\n",
        "수학성적 = 80\n",
        "if 수학성적 > 70:\n",
        "  용돈 = 10000\n",
        "print(용돈)"
      ],
      "execution_count": 18,
      "outputs": [
        {
          "output_type": "stream",
          "text": [
            "10000\n"
          ],
          "name": "stdout"
        }
      ]
    },
    {
      "cell_type": "code",
      "metadata": {
        "colab": {
          "base_uri": "https://localhost:8080/"
        },
        "id": "UeenQorLlAY9",
        "outputId": "08683d7e-7e92-4256-f56d-0bc8891428a5"
      },
      "source": [
        "a = 5\n",
        "if a > 4:\n",
        "  a = a + 1\n",
        "  print(a)\n",
        "else:\n",
        "  a = a - 1\n",
        "  print(a)"
      ],
      "execution_count": 20,
      "outputs": [
        {
          "output_type": "stream",
          "text": [
            "6\n"
          ],
          "name": "stdout"
        }
      ]
    },
    {
      "cell_type": "code",
      "metadata": {
        "colab": {
          "base_uri": "https://localhost:8080/"
        },
        "id": "AQprnzNdl2na",
        "outputId": "3c5de734-2f44-4289-cd2f-9d7191861a22"
      },
      "source": [
        "#리스트에 있는 원소의 횟수만큼 반복\n",
        "a = [1, 3, 5]\n",
        "for i in a:\n",
        "  print(i)"
      ],
      "execution_count": 21,
      "outputs": [
        {
          "output_type": "stream",
          "text": [
            "1\n",
            "3\n",
            "5\n"
          ],
          "name": "stdout"
        }
      ]
    },
    {
      "cell_type": "code",
      "metadata": {
        "colab": {
          "base_uri": "https://localhost:8080/"
        },
        "id": "Y_QiutMUmZ_g",
        "outputId": "3c0c9b1b-0398-47d5-d400-de9fa10f9593"
      },
      "source": [
        "#range : 리스트를 만드는 함수\n",
        "for i in range(5):\n",
        "  print(i)"
      ],
      "execution_count": 23,
      "outputs": [
        {
          "output_type": "stream",
          "text": [
            "0\n",
            "1\n",
            "2\n",
            "3\n",
            "4\n"
          ],
          "name": "stdout"
        }
      ]
    },
    {
      "cell_type": "code",
      "metadata": {
        "colab": {
          "base_uri": "https://localhost:8080/"
        },
        "id": "shSkbSvAnjQh",
        "outputId": "25f716e6-ee4b-4c31-a95a-9dccc044a671"
      },
      "source": [
        "#두값받아 더해서 반환하는 함수\n",
        "def Sum(a, b):\n",
        "  return a + b, a - b\n",
        "print(Sum(3, 4))\n",
        "print(Sum(5, 7))"
      ],
      "execution_count": 26,
      "outputs": [
        {
          "output_type": "stream",
          "text": [
            "(7, -1)\n",
            "(12, -2)\n"
          ],
          "name": "stdout"
        }
      ]
    },
    {
      "cell_type": "code",
      "metadata": {
        "colab": {
          "base_uri": "https://localhost:8080/"
        },
        "id": "7PSQAtl9oo0t",
        "outputId": "aa8f0b8b-3361-480c-87e1-c98adf00f31c"
      },
      "source": [
        "import numpy as np #모듈 불러오기, np는 numpy의 공통적 약칭\n",
        "\n",
        "a = np.array([1, 6, 3])\n",
        "b = np.array([1, 2, 4])\n",
        "print(a)\n",
        "print(b)"
      ],
      "execution_count": 28,
      "outputs": [
        {
          "output_type": "stream",
          "text": [
            "[1 6 3]\n",
            "[1 2 4]\n"
          ],
          "name": "stdout"
        }
      ]
    },
    {
      "cell_type": "code",
      "metadata": {
        "colab": {
          "base_uri": "https://localhost:8080/"
        },
        "id": "kfops5iepOQl",
        "outputId": "96a09c0e-58a0-441d-d865-731021486dc4"
      },
      "source": [
        "# numpy 같은 연산\n",
        "\n",
        "print(a + b)\n",
        "print(a - b)\n",
        "print(a * b)\n",
        "print(a / b)\n",
        "print(a ** b)\n",
        "print(a // b)\n",
        "print(a % b)"
      ],
      "execution_count": 30,
      "outputs": [
        {
          "output_type": "stream",
          "text": [
            "[2 8 7]\n",
            "[ 0  4 -1]\n",
            "[ 1 12 12]\n",
            "[1.   3.   0.75]\n",
            "[ 1 36 81]\n",
            "[1 3 0]\n",
            "[0 0 3]\n"
          ],
          "name": "stdout"
        }
      ]
    },
    {
      "cell_type": "code",
      "metadata": {
        "colab": {
          "base_uri": "https://localhost:8080/"
        },
        "id": "tePcSk7Zp60v",
        "outputId": "796bc8d5-7a68-452f-b8a4-1a13881959ae"
      },
      "source": [
        "#규칙에 따른 배열 선언\n",
        "\n",
        "print(np.arange(10))\n",
        "print(np.arange(5, 10))\n",
        "print(np.arange(20, -10, -2))\n",
        "print(np.arange(0, 2, 0.1))\n",
        "print(np.linspace(0, 1, 5))"
      ],
      "execution_count": 33,
      "outputs": [
        {
          "output_type": "stream",
          "text": [
            "[0 1 2 3 4 5 6 7 8 9]\n",
            "[5 6 7 8 9]\n",
            "[20 18 16 14 12 10  8  6  4  2  0 -2 -4 -6 -8]\n",
            "[0.  0.1 0.2 0.3 0.4 0.5 0.6 0.7 0.8 0.9 1.  1.1 1.2 1.3 1.4 1.5 1.6 1.7\n",
            " 1.8 1.9]\n",
            "[0.   0.25 0.5  0.75 1.  ]\n"
          ],
          "name": "stdout"
        }
      ]
    },
    {
      "cell_type": "code",
      "metadata": {
        "colab": {
          "base_uri": "https://localhost:8080/"
        },
        "id": "JfKS5MPssK3k",
        "outputId": "3606bad3-bd8c-4e1a-9a55-6b3159e2757b"
      },
      "source": [
        "#2차원 배열\n",
        "\n",
        "a = np.arange(20)\n",
        "print(a.shape)\n",
        "print(a)\n",
        "b = a.reshape(4, 5)\n",
        "print(b.shape)\n",
        "print(b)\n",
        "print(b[2,3])\n",
        "print(b[2])\n",
        "print(b[:,3])"
      ],
      "execution_count": 36,
      "outputs": [
        {
          "output_type": "stream",
          "text": [
            "(20,)\n",
            "[ 0  1  2  3  4  5  6  7  8  9 10 11 12 13 14 15 16 17 18 19]\n",
            "(4, 5)\n",
            "[[ 0  1  2  3  4]\n",
            " [ 5  6  7  8  9]\n",
            " [10 11 12 13 14]\n",
            " [15 16 17 18 19]]\n",
            "13\n",
            "[10 11 12 13 14]\n",
            "[ 3  8 13 18]\n"
          ],
          "name": "stdout"
        }
      ]
    },
    {
      "cell_type": "code",
      "metadata": {
        "colab": {
          "base_uri": "https://localhost:8080/",
          "height": 265
        },
        "id": "8nEDsX_0s0Bb",
        "outputId": "0d009c2f-94a9-4356-81c4-25c374b45f66"
      },
      "source": [
        "import matplotlib.pyplot as plt\n",
        "\n",
        "y = [80, 70, 90, 100]\n",
        "plt.plot(y)\n",
        "plt.show()"
      ],
      "execution_count": 39,
      "outputs": [
        {
          "output_type": "display_data",
          "data": {
            "image/png": "[encoded data removed]",
            "text/plain": [
              "<Figure size 432x288 with 1 Axes>"
            ]
          },
          "metadata": {
            "needs_background": "light"
          }
        }
      ]
    },
    {
      "cell_type": "code",
      "metadata": {
        "colab": {
          "base_uri": "https://localhost:8080/"
        },
        "id": "hfhCVa0TvRe-",
        "outputId": "ecc25a1d-b28c-4290-9d80-54e932a80261"
      },
      "source": [
        "import matplotlib.font_manager as fm\n",
        "!apt-get install fonts-nanum\n",
        "fm._rebuild()"
      ],
      "execution_count": 1,
      "outputs": [
        {
          "output_type": "stream",
          "text": [
            "Reading package lists... Done\n",
            "Building dependency tree       \n",
            "Reading state information... Done\n",
            "fonts-nanum is already the newest version (20170925-1).\n",
            "The following package was automatically installed and is no longer required:\n",
            "  libnvidia-common-460\n",
            "Use 'apt autoremove' to remove it.\n",
            "0 upgraded, 0 newly installed, 0 to remove and 40 not upgraded.\n"
          ],
          "name": "stdout"
        }
      ]
    },
    {
      "cell_type": "code",
      "metadata": {
        "id": "SfiNEefov4jJ"
      },
      "source": [
        "import matplotlib.pyplot as plt # 그래프 출력 모듈을 plt라는 이름으로 불러옴\n",
        "import matplotlib.font_manager as fm # 그래프 글꼴 설정 모듈 불러오기\n",
        "\n",
        "fontpath='/usr/share/fonts/truetype/nanum/NanumBarunGothic.ttf' # 글꼴 설치 경로\n",
        "font_name=fm.FontProperties(fname=fontpath).get_name()\n",
        "plt.rc('font',family=font_name) #그래프 글꼴을 해당 글꼴로 지정\n",
        "plt.rc('axes', unicode_minus=False) # 그래프 축에 마이너스가 나올 시 '-'가 제대로 나오도록 지정"
      ],
      "execution_count": 2,
      "outputs": []
    },
    {
      "cell_type": "code",
      "metadata": {
        "id": "OVwlf65SxXDm"
      },
      "source": [
        "import matplotlib.pyplot as plt\n",
        "y = [80, 70, 90, 100]\n",
        "x = ['1학기 중간고사', '1학기 기말고사', '2학기 중간고사', '2학기 기말고사']\n",
        "plt.plot(x, y)\n",
        "plt.show()"
      ],
      "execution_count": null,
      "outputs": []
    },
    {
      "cell_type": "code",
      "metadata": {
        "colab": {
          "base_uri": "https://localhost:8080/",
          "height": 406
        },
        "id": "CASwbLvHxYPH",
        "outputId": "011729b5-75b7-412b-8f33-48c5ffcc57c4"
      },
      "source": [
        "import matplotlib.pyplot as plt\n",
        "y = [80, 70, 90, 100]\n",
        "y2 = [40, 80, 70, 90]\n",
        "x = ['1학기 중간고사', '1학기 기말고사', '2학기 중간고사', '2학기 기말고사']\n",
        "\n",
        "plt.figure(figsize=(10,5))\n",
        "plt.plot(x, y, 'g', label = '수학')\n",
        "plt.plot(x, y2, 'r', label = '국어')\n",
        "plt.xlabel('시험')\n",
        "plt.ylabel('성적')\n",
        "plt.legend()\n",
        "plt.title('누군가의 성적추이 그래프', fontsize = 30)\n",
        "plt.xticks(rotation=45)\n",
        "plt.show()\n"
      ],
      "execution_count": 5,
      "outputs": [
        {
          "output_type": "display_data",
          "data": {
            "image/png": "[encoded data removed]",
            "text/plain": [
              "<Figure size 720x360 with 1 Axes>"
            ]
          },
          "metadata": {
            "needs_background": "light"
          }
        }
      ]
    }
  ]
}