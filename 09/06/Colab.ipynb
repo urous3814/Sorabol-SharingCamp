{
  "nbformat": 4,
  "nbformat_minor": 0,
  "metadata": {
    "colab": {
      "name": "Colab.ipynb",
      "provenance": [],
      "collapsed_sections": [],
      "mount_file_id": "1gW-0RYT1gTwJPgNhG-j0iKqQBdbyJFUW",
      "authorship_tag": "ABX9TyMtq4sg4P0VeUEMZ+ug8zRF",
      "include_colab_link": true
    },
    "kernelspec": {
      "name": "python3",
      "display_name": "Python 3"
    },
    "language_info": {
      "name": "python"
    }
  },
  "cells": [
    {
      "cell_type": "markdown",
      "metadata": {
        "id": "view-in-github",
        "colab_type": "text"
      },
      "source": [
        "<a href=\"https://colab.research.google.com/github/urous3814/Sorabol-SharingCamp/blob/main/09/06/Colab.ipynb\" target=\"_parent\"><img src=\"https://colab.research.google.com/assets/colab-badge.svg\" alt=\"Open In Colab\"/></a>"
      ]
    },
    {
      "cell_type": "code",
      "metadata": {
        "colab": {
          "base_uri": "https://localhost:8080/"
        },
        "id": "qF96RVfVhcBP",
        "outputId": "5536b1c5-9e95-4a58-feb0-6969020aee2e"
      },
      "source": [
        "#문자열 슬라이스\n",
        "a = '빅데이터 분석'\n",
        "\n",
        "print(a[0])\n",
        "print(a[1])\n",
        "print(a[-1])\n",
        "print(a[1:3])\n",
        "print(a[:3])\n",
        "print(a[1:])\n",
        "print(a[:])"
      ],
      "execution_count": null,
      "outputs": [
        {
          "output_type": "stream",
          "text": [
            "빅\n",
            "데\n",
            "석\n",
            "데이\n",
            "빅데이\n",
            "데이터 분석\n",
            "빅데이터 분석\n"
          ],
          "name": "stdout"
        }
      ]
    },
    {
      "cell_type": "code",
      "metadata": {
        "colab": {
          "base_uri": "https://localhost:8080/"
        },
        "id": "S5nFGmY-hjL5",
        "outputId": "555dfd50-1f59-4267-82ac-57e64ca3edf1"
      },
      "source": [
        "#뮨자열 연산\n",
        "a = '나리 나리 개나리'\n",
        "b = '입에 따다 물고요'\n",
        "\n",
        "print(len(a))\n",
        "print('AI' in a)\n",
        "print('AI' not in a)\n",
        "print(a + b)"
      ],
      "execution_count": null,
      "outputs": [
        {
          "output_type": "stream",
          "text": [
            "9\n",
            "False\n",
            "True\n",
            "나리 나리 개나리입에 따다 물고요\n"
          ],
          "name": "stdout"
        }
      ]
    },
    {
      "cell_type": "code",
      "metadata": {
        "colab": {
          "base_uri": "https://localhost:8080/"
        },
        "id": "zGrZd2T9iXb-",
        "outputId": "f424f241-a0ea-4570-8c05-f0dd36059567"
      },
      "source": [
        "#문자열 분리와 합치기\n",
        "a = '나리 나리 개나리'\n",
        "b = ['a', 'b', 'c' ,'d']\n",
        "print(a.split())\n",
        "print(a.split('나'))\n",
        "print(' '.join(b))\n",
        "print('뽕'.join(a.split('리')))"
      ],
      "execution_count": null,
      "outputs": [
        {
          "output_type": "stream",
          "text": [
            "['나리', '나리', '개나리']\n",
            "['', '리 ', '리 개', '리']\n",
            "a b c d\n",
            "나뽕 나뽕 개나뽕\n"
          ],
          "name": "stdout"
        }
      ]
    },
    {
      "cell_type": "code",
      "metadata": {
        "colab": {
          "base_uri": "https://localhost:8080/"
        },
        "id": "7ZnNm_hQkDA0",
        "outputId": "b5aa37c3-f5f6-4c55-e1d6-255ce1bc151e"
      },
      "source": [
        "a = 3\n",
        "if a > 1:\n",
        "  a = 100\n",
        "  print(a)\n",
        "  "
      ],
      "execution_count": null,
      "outputs": [
        {
          "output_type": "stream",
          "text": [
            "100\n"
          ],
          "name": "stdout"
        }
      ]
    },
    {
      "cell_type": "code",
      "metadata": {
        "colab": {
          "base_uri": "https://localhost:8080/"
        },
        "id": "2jywkpdLkpwh",
        "outputId": "a0ef9fba-95dd-42de-be69-3319345d1b36"
      },
      "source": [
        "용돈 = 1000\n",
        "수학성적 = 80\n",
        "if 수학성적 > 70:\n",
        "  용돈 = 10000\n",
        "print(용돈)"
      ],
      "execution_count": null,
      "outputs": [
        {
          "output_type": "stream",
          "text": [
            "10000\n"
          ],
          "name": "stdout"
        }
      ]
    },
    {
      "cell_type": "code",
      "metadata": {
        "colab": {
          "base_uri": "https://localhost:8080/"
        },
        "id": "UeenQorLlAY9",
        "outputId": "08683d7e-7e92-4256-f56d-0bc8891428a5"
      },
      "source": [
        "a = 5\n",
        "if a > 4:\n",
        "  a = a + 1\n",
        "  print(a)\n",
        "else:\n",
        "  a = a - 1\n",
        "  print(a)"
      ],
      "execution_count": null,
      "outputs": [
        {
          "output_type": "stream",
          "text": [
            "6\n"
          ],
          "name": "stdout"
        }
      ]
    },
    {
      "cell_type": "code",
      "metadata": {
        "colab": {
          "base_uri": "https://localhost:8080/"
        },
        "id": "AQprnzNdl2na",
        "outputId": "3c5de734-2f44-4289-cd2f-9d7191861a22"
      },
      "source": [
        "#리스트에 있는 원소의 횟수만큼 반복\n",
        "a = [1, 3, 5]\n",
        "for i in a:\n",
        "  print(i)"
      ],
      "execution_count": null,
      "outputs": [
        {
          "output_type": "stream",
          "text": [
            "1\n",
            "3\n",
            "5\n"
          ],
          "name": "stdout"
        }
      ]
    },
    {
      "cell_type": "code",
      "metadata": {
        "colab": {
          "base_uri": "https://localhost:8080/"
        },
        "id": "Y_QiutMUmZ_g",
        "outputId": "3c0c9b1b-0398-47d5-d400-de9fa10f9593"
      },
      "source": [
        "#range : 리스트를 만드는 함수\n",
        "for i in range(5):\n",
        "  print(i)"
      ],
      "execution_count": null,
      "outputs": [
        {
          "output_type": "stream",
          "text": [
            "0\n",
            "1\n",
            "2\n",
            "3\n",
            "4\n"
          ],
          "name": "stdout"
        }
      ]
    },
    {
      "cell_type": "code",
      "metadata": {
        "colab": {
          "base_uri": "https://localhost:8080/"
        },
        "id": "shSkbSvAnjQh",
        "outputId": "25f716e6-ee4b-4c31-a95a-9dccc044a671"
      },
      "source": [
        "#두값받아 더해서 반환하는 함수\n",
        "def Sum(a, b):\n",
        "  return a + b, a - b\n",
        "print(Sum(3, 4))\n",
        "print(Sum(5, 7))"
      ],
      "execution_count": null,
      "outputs": [
        {
          "output_type": "stream",
          "text": [
            "(7, -1)\n",
            "(12, -2)\n"
          ],
          "name": "stdout"
        }
      ]
    },
    {
      "cell_type": "code",
      "metadata": {
        "colab": {
          "base_uri": "https://localhost:8080/"
        },
        "id": "7PSQAtl9oo0t",
        "outputId": "aa8f0b8b-3361-480c-87e1-c98adf00f31c"
      },
      "source": [
        "import numpy as np #모듈 불러오기, np는 numpy의 공통적 약칭\n",
        "\n",
        "a = np.array([1, 6, 3])\n",
        "b = np.array([1, 2, 4])\n",
        "print(a)\n",
        "print(b)"
      ],
      "execution_count": null,
      "outputs": [
        {
          "output_type": "stream",
          "text": [
            "[1 6 3]\n",
            "[1 2 4]\n"
          ],
          "name": "stdout"
        }
      ]
    },
    {
      "cell_type": "code",
      "metadata": {
        "colab": {
          "base_uri": "https://localhost:8080/"
        },
        "id": "kfops5iepOQl",
        "outputId": "96a09c0e-58a0-441d-d865-731021486dc4"
      },
      "source": [
        "# numpy 같은 연산\n",
        "\n",
        "print(a + b)\n",
        "print(a - b)\n",
        "print(a * b)\n",
        "print(a / b)\n",
        "print(a ** b)\n",
        "print(a // b)\n",
        "print(a % b)"
      ],
      "execution_count": null,
      "outputs": [
        {
          "output_type": "stream",
          "text": [
            "[2 8 7]\n",
            "[ 0  4 -1]\n",
            "[ 1 12 12]\n",
            "[1.   3.   0.75]\n",
            "[ 1 36 81]\n",
            "[1 3 0]\n",
            "[0 0 3]\n"
          ],
          "name": "stdout"
        }
      ]
    },
    {
      "cell_type": "code",
      "metadata": {
        "colab": {
          "base_uri": "https://localhost:8080/"
        },
        "id": "tePcSk7Zp60v",
        "outputId": "796bc8d5-7a68-452f-b8a4-1a13881959ae"
      },
      "source": [
        "#규칙에 따른 배열 선언\n",
        "\n",
        "print(np.arange(10))\n",
        "print(np.arange(5, 10))\n",
        "print(np.arange(20, -10, -2))\n",
        "print(np.arange(0, 2, 0.1))\n",
        "print(np.linspace(0, 1, 5))"
      ],
      "execution_count": null,
      "outputs": [
        {
          "output_type": "stream",
          "text": [
            "[0 1 2 3 4 5 6 7 8 9]\n",
            "[5 6 7 8 9]\n",
            "[20 18 16 14 12 10  8  6  4  2  0 -2 -4 -6 -8]\n",
            "[0.  0.1 0.2 0.3 0.4 0.5 0.6 0.7 0.8 0.9 1.  1.1 1.2 1.3 1.4 1.5 1.6 1.7\n",
            " 1.8 1.9]\n",
            "[0.   0.25 0.5  0.75 1.  ]\n"
          ],
          "name": "stdout"
        }
      ]
    },
    {
      "cell_type": "code",
      "metadata": {
        "colab": {
          "base_uri": "https://localhost:8080/"
        },
        "id": "JfKS5MPssK3k",
        "outputId": "3606bad3-bd8c-4e1a-9a55-6b3159e2757b"
      },
      "source": [
        "#2차원 배열\n",
        "\n",
        "a = np.arange(20)\n",
        "print(a.shape)\n",
        "print(a)\n",
        "b = a.reshape(4, 5)\n",
        "print(b.shape)\n",
        "print(b)\n",
        "print(b[2,3])\n",
        "print(b[2])\n",
        "print(b[:,3])"
      ],
      "execution_count": null,
      "outputs": [
        {
          "output_type": "stream",
          "text": [
            "(20,)\n",
            "[ 0  1  2  3  4  5  6  7  8  9 10 11 12 13 14 15 16 17 18 19]\n",
            "(4, 5)\n",
            "[[ 0  1  2  3  4]\n",
            " [ 5  6  7  8  9]\n",
            " [10 11 12 13 14]\n",
            " [15 16 17 18 19]]\n",
            "13\n",
            "[10 11 12 13 14]\n",
            "[ 3  8 13 18]\n"
          ],
          "name": "stdout"
        }
      ]
    },
    {
      "cell_type": "code",
      "metadata": {
        "colab": {
          "base_uri": "https://localhost:8080/",
          "height": 265
        },
        "id": "8nEDsX_0s0Bb",
        "outputId": "0d009c2f-94a9-4356-81c4-25c374b45f66"
      },
      "source": [
        "import matplotlib.pyplot as plt\n",
        "\n",
        "y = [80, 70, 90, 100]\n",
        "plt.plot(y)\n",
        "plt.show()"
      ],
      "execution_count": null,
      "outputs": [
        {
          "output_type": "display_data",
          "data": {
            "image/png": "[encoded data removed]",
            "text/plain": [
              "<Figure size 432x288 with 1 Axes>"
            ]
          },
          "metadata": {
            "needs_background": "light"
          }
        }
      ]
    },
    {
      "cell_type": "code",
      "metadata": {
        "colab": {
          "base_uri": "https://localhost:8080/"
        },
        "id": "hfhCVa0TvRe-",
        "outputId": "ecc25a1d-b28c-4290-9d80-54e932a80261"
      },
      "source": [
        "import matplotlib.font_manager as fm\n",
        "!apt-get install fonts-nanum\n",
        "fm._rebuild()"
      ],
      "execution_count": null,
      "outputs": [
        {
          "output_type": "stream",
          "text": [
            "Reading package lists... Done\n",
            "Building dependency tree       \n",
            "Reading state information... Done\n",
            "fonts-nanum is already the newest version (20170925-1).\n",
            "The following package was automatically installed and is no longer required:\n",
            "  libnvidia-common-460\n",
            "Use 'apt autoremove' to remove it.\n",
            "0 upgraded, 0 newly installed, 0 to remove and 40 not upgraded.\n"
          ],
          "name": "stdout"
        }
      ]
    },
    {
      "cell_type": "code",
      "metadata": {
        "id": "SfiNEefov4jJ"
      },
      "source": [
        "import matplotlib.pyplot as plt # 그래프 출력 모듈을 plt라는 이름으로 불러옴\n",
        "import matplotlib.font_manager as fm # 그래프 글꼴 설정 모듈 불러오기\n",
        "\n",
        "fontpath='/usr/share/fonts/truetype/nanum/NanumBarunGothic.ttf' # 글꼴 설치 경로\n",
        "font_name=fm.FontProperties(fname=fontpath).get_name()\n",
        "plt.rc('font',family=font_name) #그래프 글꼴을 해당 글꼴로 지정\n",
        "plt.rc('axes', unicode_minus=False) # 그래프 축에 마이너스가 나올 시 '-'가 제대로 나오도록 지정"
      ],
      "execution_count": null,
      "outputs": []
    },
    {
      "cell_type": "code",
      "metadata": {
        "id": "OVwlf65SxXDm"
      },
      "source": [
        "import matplotlib.pyplot as plt\n",
        "y = [80, 70, 90, 100]\n",
        "x = ['1학기 중간고사', '1학기 기말고사', '2학기 중간고사', '2학기 기말고사']\n",
        "plt.plot(x, y)\n",
        "plt.show()"
      ],
      "execution_count": null,
      "outputs": []
    },
    {
      "cell_type": "code",
      "metadata": {
        "colab": {
          "base_uri": "https://localhost:8080/",
          "height": 406
        },
        "id": "CASwbLvHxYPH",
        "outputId": "95eec795-c1f5-4b07-a8ce-016cb1dd5125"
      },
      "source": [
        "import matplotlib.pyplot as plt\n",
        "y = [80, 70, 90, 100]\n",
        "y2 = [40, 80, 70, 90]\n",
        "x = ['1학기 중간고사', '1학기 기말고사', '2학기 중간고사', '2학기 기말고사']\n",
        "\n",
        "plt.figure(figsize=(10,5))\n",
        "plt.plot(x, y, 'r', label = '수학')\n",
        "plt.bar(x, y2, color='b', label = '국어')\n",
        "plt.xlabel('시험')\n",
        "plt.ylabel('성적')\n",
        "plt.legend()\n",
        "plt.title('누군가의 성적추이 그래프', fontsize = 30)\n",
        "plt.xticks(rotation=45)\n",
        "plt.show()"
      ],
      "execution_count": null,
      "outputs": [
        {
          "output_type": "display_data",
          "data": {
            "image/png": "[encoded data removed]",
            "text/plain": [
              "<Figure size 720x360 with 1 Axes>"
            ]
          },
          "metadata": {
            "needs_background": "light"
          }
        }
      ]
    },
    {
      "cell_type": "code",
      "metadata": {
        "colab": {
          "base_uri": "https://localhost:8080/",
          "height": 265
        },
        "id": "VWd1zj7ByxsJ",
        "outputId": "d07a3896-c149-4a59-aeed-0e456c67d015"
      },
      "source": [
        "import matplotlib.pyplot as plt\n",
        "y = [80, 70, 90, 100]\n",
        "x = ['1학기 중간고사', '1학기 기말고사', '2학기 중간고사', '2학기 기말고사']\n",
        "plt.scatter(x, y)\n",
        "plt.show()"
      ],
      "execution_count": null,
      "outputs": [
        {
          "output_type": "display_data",
          "data": {
            "image/png": "[encoded data removed]",
            "text/plain": [
              "<Figure size 432x288 with 1 Axes>"
            ]
          },
          "metadata": {
            "needs_background": "light"
          }
        }
      ]
    },
    {
      "cell_type": "code",
      "metadata": {
        "colab": {
          "base_uri": "https://localhost:8080/",
          "height": 265
        },
        "id": "GrNgUoYszJCB",
        "outputId": "db45b58d-799a-4360-9ca9-e9762eaa0d8c"
      },
      "source": [
        "import matplotlib.pyplot as plt\n",
        "y = [80, 70, 90, 100]\n",
        "x = ['1학기 중간고사', '1학기 기말고사', '2학기 중간고사', '2학기 기말고사']\n",
        "plt.bar(x, y)\n",
        "plt.show()"
      ],
      "execution_count": null,
      "outputs": [
        {
          "output_type": "display_data",
          "data": {
            "image/png": "[encoded data removed]",
            "text/plain": [
              "<Figure size 432x288 with 1 Axes>"
            ]
          },
          "metadata": {
            "needs_background": "light"
          }
        }
      ]
    },
    {
      "cell_type": "code",
      "metadata": {
        "colab": {
          "base_uri": "https://localhost:8080/",
          "height": 265
        },
        "id": "h8gTV6bTznh4",
        "outputId": "092e3a4c-5763-4391-cb8d-7e58bcc67d59"
      },
      "source": [
        "import matplotlib.pyplot as plt\n",
        "\n",
        "data = [1,2,4,2,1,4,3,5,3,4,2,1,1]\n",
        "plt.hist(data)\n",
        "plt.show()"
      ],
      "execution_count": null,
      "outputs": [
        {
          "output_type": "display_data",
          "data": {
            "image/png": "[encoded data removed]",
            "text/plain": [
              "<Figure size 432x288 with 1 Axes>"
            ]
          },
          "metadata": {
            "needs_background": "light"
          }
        }
      ]
    },
    {
      "cell_type": "code",
      "metadata": {
        "colab": {
          "base_uri": "https://localhost:8080/",
          "height": 265
        },
        "id": "aY0rRp3gz06_",
        "outputId": "a9d3cad3-645b-4985-dce9-23a7d808251b"
      },
      "source": [
        "import matplotlib.pyplot as plt\n",
        "\n",
        "y = [10, 60, 75, 50, 90, 80, 70, 90, 100, 60]\n",
        "plt.boxplot(y)\n",
        "plt.show()"
      ],
      "execution_count": null,
      "outputs": [
        {
          "output_type": "display_data",
          "data": {
            "image/png": "[encoded data removed]",
            "text/plain": [
              "<Figure size 432x288 with 1 Axes>"
            ]
          },
          "metadata": {
            "needs_background": "light"
          }
        }
      ]
    },
    {
      "cell_type": "code",
      "metadata": {
        "colab": {
          "base_uri": "https://localhost:8080/",
          "height": 204
        },
        "id": "pUyzMukMZCFM",
        "outputId": "d9b30b95-ff6b-40cb-eb68-765fe82b9136"
      },
      "source": [
        "import pandas as pd\n",
        "\n",
        "df = pd.read_csv('/content/drive/MyDrive/colab/test.csv', encoding='cp949')\n",
        "df.head()"
      ],
      "execution_count": 15,
      "outputs": [
        {
          "output_type": "execute_result",
          "data": {
            "text/html": [
              "<div>\n",
              "<style scoped>\n",
              "    .dataframe tbody tr th:only-of-type {\n",
              "        vertical-align: middle;\n",
              "    }\n",
              "\n",
              "    .dataframe tbody tr th {\n",
              "        vertical-align: top;\n",
              "    }\n",
              "\n",
              "    .dataframe thead th {\n",
              "        text-align: right;\n",
              "    }\n",
              "</style>\n",
              "<table border=\"1\" class=\"dataframe\">\n",
              "  <thead>\n",
              "    <tr style=\"text-align: right;\">\n",
              "      <th></th>\n",
              "      <th>번호</th>\n",
              "      <th>이름</th>\n",
              "      <th>국어</th>\n",
              "      <th>수학</th>\n",
              "      <th>영어</th>\n",
              "    </tr>\n",
              "  </thead>\n",
              "  <tbody>\n",
              "    <tr>\n",
              "      <th>0</th>\n",
              "      <td>1</td>\n",
              "      <td>김가가</td>\n",
              "      <td>3.6</td>\n",
              "      <td>58.3</td>\n",
              "      <td>21.2</td>\n",
              "    </tr>\n",
              "    <tr>\n",
              "      <th>1</th>\n",
              "      <td>2</td>\n",
              "      <td>김나나</td>\n",
              "      <td>54.1</td>\n",
              "      <td>82.6</td>\n",
              "      <td>86.0</td>\n",
              "    </tr>\n",
              "    <tr>\n",
              "      <th>2</th>\n",
              "      <td>3</td>\n",
              "      <td>윤가가</td>\n",
              "      <td>38.0</td>\n",
              "      <td>97.3</td>\n",
              "      <td>100.0</td>\n",
              "    </tr>\n",
              "    <tr>\n",
              "      <th>3</th>\n",
              "      <td>4</td>\n",
              "      <td>윤나나</td>\n",
              "      <td>25.0</td>\n",
              "      <td>18.4</td>\n",
              "      <td>48.3</td>\n",
              "    </tr>\n",
              "    <tr>\n",
              "      <th>4</th>\n",
              "      <td>5</td>\n",
              "      <td>임가가</td>\n",
              "      <td>41.1</td>\n",
              "      <td>53.5</td>\n",
              "      <td>27.8</td>\n",
              "    </tr>\n",
              "  </tbody>\n",
              "</table>\n",
              "</div>"
            ],
            "text/plain": [
              "   번호   이름    국어    수학     영어\n",
              "0   1  김가가   3.6  58.3   21.2\n",
              "1   2  김나나  54.1  82.6   86.0\n",
              "2   3  윤가가  38.0  97.3  100.0\n",
              "3   4  윤나나  25.0  18.4   48.3\n",
              "4   5  임가가  41.1  53.5   27.8"
            ]
          },
          "metadata": {},
          "execution_count": 15
        }
      ]
    },
    {
      "cell_type": "code",
      "metadata": {
        "colab": {
          "base_uri": "https://localhost:8080/"
        },
        "id": "kkVn2s9febkG",
        "outputId": "ac4e5a7f-6260-4fdc-e44a-fc61b259d037"
      },
      "source": [
        "len(df)"
      ],
      "execution_count": 4,
      "outputs": [
        {
          "output_type": "execute_result",
          "data": {
            "text/plain": [
              "10"
            ]
          },
          "metadata": {},
          "execution_count": 4
        }
      ]
    },
    {
      "cell_type": "code",
      "metadata": {
        "colab": {
          "base_uri": "https://localhost:8080/"
        },
        "id": "tQAQnJQBet60",
        "outputId": "fde14ae5-66f1-47e4-f191-314d4fb6cf4a"
      },
      "source": [
        "df['이름']"
      ],
      "execution_count": 5,
      "outputs": [
        {
          "output_type": "execute_result",
          "data": {
            "text/plain": [
              "0    김가가\n",
              "1    김나나\n",
              "2    윤가가\n",
              "3    윤나나\n",
              "4    임가가\n",
              "5    임나나\n",
              "6    홍가가\n",
              "7    홍나나\n",
              "8    홍다다\n",
              "9    홍길동\n",
              "Name: 이름, dtype: object"
            ]
          },
          "metadata": {},
          "execution_count": 5
        }
      ]
    },
    {
      "cell_type": "code",
      "metadata": {
        "colab": {
          "base_uri": "https://localhost:8080/",
          "height": 111
        },
        "id": "dLj3hW3je1MZ",
        "outputId": "fb29f937-d9d5-45da-86bc-c7df21c4d7d9"
      },
      "source": [
        "df[2:4]"
      ],
      "execution_count": 6,
      "outputs": [
        {
          "output_type": "execute_result",
          "data": {
            "text/html": [
              "<div>\n",
              "<style scoped>\n",
              "    .dataframe tbody tr th:only-of-type {\n",
              "        vertical-align: middle;\n",
              "    }\n",
              "\n",
              "    .dataframe tbody tr th {\n",
              "        vertical-align: top;\n",
              "    }\n",
              "\n",
              "    .dataframe thead th {\n",
              "        text-align: right;\n",
              "    }\n",
              "</style>\n",
              "<table border=\"1\" class=\"dataframe\">\n",
              "  <thead>\n",
              "    <tr style=\"text-align: right;\">\n",
              "      <th></th>\n",
              "      <th>번호</th>\n",
              "      <th>이름</th>\n",
              "      <th>국어</th>\n",
              "      <th>수학</th>\n",
              "      <th>영어</th>\n",
              "    </tr>\n",
              "  </thead>\n",
              "  <tbody>\n",
              "    <tr>\n",
              "      <th>2</th>\n",
              "      <td>3</td>\n",
              "      <td>윤가가</td>\n",
              "      <td>38.0</td>\n",
              "      <td>97.3</td>\n",
              "      <td>100.0</td>\n",
              "    </tr>\n",
              "    <tr>\n",
              "      <th>3</th>\n",
              "      <td>4</td>\n",
              "      <td>윤나나</td>\n",
              "      <td>25.0</td>\n",
              "      <td>18.4</td>\n",
              "      <td>48.3</td>\n",
              "    </tr>\n",
              "  </tbody>\n",
              "</table>\n",
              "</div>"
            ],
            "text/plain": [
              "   번호   이름    국어    수학     영어\n",
              "2   3  윤가가  38.0  97.3  100.0\n",
              "3   4  윤나나  25.0  18.4   48.3"
            ]
          },
          "metadata": {},
          "execution_count": 6
        }
      ]
    },
    {
      "cell_type": "code",
      "metadata": {
        "colab": {
          "base_uri": "https://localhost:8080/",
          "height": 35
        },
        "id": "-6MRyo9qfM-6",
        "outputId": "f18130e2-2cc3-4714-edc7-69c8cf876e51"
      },
      "source": [
        "df.loc[1, '이름']"
      ],
      "execution_count": 7,
      "outputs": [
        {
          "output_type": "execute_result",
          "data": {
            "application/vnd.google.colaboratory.intrinsic+json": {
              "type": "string"
            },
            "text/plain": [
              "'김나나'"
            ]
          },
          "metadata": {},
          "execution_count": 7
        }
      ]
    },
    {
      "cell_type": "code",
      "metadata": {
        "colab": {
          "base_uri": "https://localhost:8080/",
          "height": 142
        },
        "id": "hfEg5TDLgB4i",
        "outputId": "8d275822-16a5-4422-c7ff-1df3f2c4a005"
      },
      "source": [
        "df.loc[1:3, '이름':]"
      ],
      "execution_count": 10,
      "outputs": [
        {
          "output_type": "execute_result",
          "data": {
            "text/html": [
              "<div>\n",
              "<style scoped>\n",
              "    .dataframe tbody tr th:only-of-type {\n",
              "        vertical-align: middle;\n",
              "    }\n",
              "\n",
              "    .dataframe tbody tr th {\n",
              "        vertical-align: top;\n",
              "    }\n",
              "\n",
              "    .dataframe thead th {\n",
              "        text-align: right;\n",
              "    }\n",
              "</style>\n",
              "<table border=\"1\" class=\"dataframe\">\n",
              "  <thead>\n",
              "    <tr style=\"text-align: right;\">\n",
              "      <th></th>\n",
              "      <th>이름</th>\n",
              "      <th>국어</th>\n",
              "      <th>수학</th>\n",
              "      <th>영어</th>\n",
              "    </tr>\n",
              "  </thead>\n",
              "  <tbody>\n",
              "    <tr>\n",
              "      <th>1</th>\n",
              "      <td>김나나</td>\n",
              "      <td>54.1</td>\n",
              "      <td>82.6</td>\n",
              "      <td>86.0</td>\n",
              "    </tr>\n",
              "    <tr>\n",
              "      <th>2</th>\n",
              "      <td>윤가가</td>\n",
              "      <td>38.0</td>\n",
              "      <td>97.3</td>\n",
              "      <td>100.0</td>\n",
              "    </tr>\n",
              "    <tr>\n",
              "      <th>3</th>\n",
              "      <td>윤나나</td>\n",
              "      <td>25.0</td>\n",
              "      <td>18.4</td>\n",
              "      <td>48.3</td>\n",
              "    </tr>\n",
              "  </tbody>\n",
              "</table>\n",
              "</div>"
            ],
            "text/plain": [
              "    이름    국어    수학     영어\n",
              "1  김나나  54.1  82.6   86.0\n",
              "2  윤가가  38.0  97.3  100.0\n",
              "3  윤나나  25.0  18.4   48.3"
            ]
          },
          "metadata": {},
          "execution_count": 10
        }
      ]
    },
    {
      "cell_type": "code",
      "metadata": {
        "colab": {
          "base_uri": "https://localhost:8080/",
          "height": 359
        },
        "id": "_eSmrD3cggsw",
        "outputId": "ee14c81e-63a2-4b37-af84-94564c81fa22"
      },
      "source": [
        "df.iloc[:, 3:5]"
      ],
      "execution_count": 11,
      "outputs": [
        {
          "output_type": "execute_result",
          "data": {
            "text/html": [
              "<div>\n",
              "<style scoped>\n",
              "    .dataframe tbody tr th:only-of-type {\n",
              "        vertical-align: middle;\n",
              "    }\n",
              "\n",
              "    .dataframe tbody tr th {\n",
              "        vertical-align: top;\n",
              "    }\n",
              "\n",
              "    .dataframe thead th {\n",
              "        text-align: right;\n",
              "    }\n",
              "</style>\n",
              "<table border=\"1\" class=\"dataframe\">\n",
              "  <thead>\n",
              "    <tr style=\"text-align: right;\">\n",
              "      <th></th>\n",
              "      <th>수학</th>\n",
              "      <th>영어</th>\n",
              "    </tr>\n",
              "  </thead>\n",
              "  <tbody>\n",
              "    <tr>\n",
              "      <th>0</th>\n",
              "      <td>58.3</td>\n",
              "      <td>21.2</td>\n",
              "    </tr>\n",
              "    <tr>\n",
              "      <th>1</th>\n",
              "      <td>82.6</td>\n",
              "      <td>86.0</td>\n",
              "    </tr>\n",
              "    <tr>\n",
              "      <th>2</th>\n",
              "      <td>97.3</td>\n",
              "      <td>100.0</td>\n",
              "    </tr>\n",
              "    <tr>\n",
              "      <th>3</th>\n",
              "      <td>18.4</td>\n",
              "      <td>48.3</td>\n",
              "    </tr>\n",
              "    <tr>\n",
              "      <th>4</th>\n",
              "      <td>53.5</td>\n",
              "      <td>27.8</td>\n",
              "    </tr>\n",
              "    <tr>\n",
              "      <th>5</th>\n",
              "      <td>17.9</td>\n",
              "      <td>25.4</td>\n",
              "    </tr>\n",
              "    <tr>\n",
              "      <th>6</th>\n",
              "      <td>88.6</td>\n",
              "      <td>100.0</td>\n",
              "    </tr>\n",
              "    <tr>\n",
              "      <th>7</th>\n",
              "      <td>62.9</td>\n",
              "      <td>64.8</td>\n",
              "    </tr>\n",
              "    <tr>\n",
              "      <th>8</th>\n",
              "      <td>6.6</td>\n",
              "      <td>63.5</td>\n",
              "    </tr>\n",
              "    <tr>\n",
              "      <th>9</th>\n",
              "      <td>28.2</td>\n",
              "      <td>69.5</td>\n",
              "    </tr>\n",
              "  </tbody>\n",
              "</table>\n",
              "</div>"
            ],
            "text/plain": [
              "     수학     영어\n",
              "0  58.3   21.2\n",
              "1  82.6   86.0\n",
              "2  97.3  100.0\n",
              "3  18.4   48.3\n",
              "4  53.5   27.8\n",
              "5  17.9   25.4\n",
              "6  88.6  100.0\n",
              "7  62.9   64.8\n",
              "8   6.6   63.5\n",
              "9  28.2   69.5"
            ]
          },
          "metadata": {},
          "execution_count": 11
        }
      ]
    },
    {
      "cell_type": "code",
      "metadata": {
        "colab": {
          "base_uri": "https://localhost:8080/"
        },
        "id": "T0RimoQUg_DZ",
        "outputId": "a6b515b7-ac67-4e3d-9c31-f38e92c55ed8"
      },
      "source": [
        "df['국어'] > 50"
      ],
      "execution_count": 12,
      "outputs": [
        {
          "output_type": "execute_result",
          "data": {
            "text/plain": [
              "0    False\n",
              "1     True\n",
              "2    False\n",
              "3    False\n",
              "4    False\n",
              "5     True\n",
              "6     True\n",
              "7    False\n",
              "8     True\n",
              "9    False\n",
              "Name: 국어, dtype: bool"
            ]
          },
          "metadata": {},
          "execution_count": 12
        }
      ]
    },
    {
      "cell_type": "code",
      "metadata": {
        "colab": {
          "base_uri": "https://localhost:8080/"
        },
        "id": "Z5EM1xY7hMbe",
        "outputId": "bddc2f5c-324b-494b-e1f5-c87f3e29442d"
      },
      "source": [
        "df['이름'] == '윤가가'"
      ],
      "execution_count": 16,
      "outputs": [
        {
          "output_type": "execute_result",
          "data": {
            "text/plain": [
              "0    False\n",
              "1    False\n",
              "2     True\n",
              "3    False\n",
              "4    False\n",
              "5    False\n",
              "6    False\n",
              "7    False\n",
              "8    False\n",
              "9    False\n",
              "Name: 이름, dtype: bool"
            ]
          },
          "metadata": {},
          "execution_count": 16
        }
      ]
    },
    {
      "cell_type": "code",
      "metadata": {
        "colab": {
          "base_uri": "https://localhost:8080/"
        },
        "id": "o4T5rLq6iMeV",
        "outputId": "bf30ef00-c292-42d5-d344-07d4894e61bc"
      },
      "source": [
        "df['이름'].str.contains('가')"
      ],
      "execution_count": 17,
      "outputs": [
        {
          "output_type": "execute_result",
          "data": {
            "text/plain": [
              "0     True\n",
              "1    False\n",
              "2     True\n",
              "3    False\n",
              "4     True\n",
              "5    False\n",
              "6     True\n",
              "7    False\n",
              "8    False\n",
              "9    False\n",
              "Name: 이름, dtype: bool"
            ]
          },
          "metadata": {},
          "execution_count": 17
        }
      ]
    },
    {
      "cell_type": "code",
      "metadata": {
        "colab": {
          "base_uri": "https://localhost:8080/",
          "height": 173
        },
        "id": "3OY3L8UBiu4x",
        "outputId": "e10f0587-dd2b-4bdd-ea87-c862c0e68b9d"
      },
      "source": [
        "df[df['이름'].str.contains('가')]"
      ],
      "execution_count": 18,
      "outputs": [
        {
          "output_type": "execute_result",
          "data": {
            "text/html": [
              "<div>\n",
              "<style scoped>\n",
              "    .dataframe tbody tr th:only-of-type {\n",
              "        vertical-align: middle;\n",
              "    }\n",
              "\n",
              "    .dataframe tbody tr th {\n",
              "        vertical-align: top;\n",
              "    }\n",
              "\n",
              "    .dataframe thead th {\n",
              "        text-align: right;\n",
              "    }\n",
              "</style>\n",
              "<table border=\"1\" class=\"dataframe\">\n",
              "  <thead>\n",
              "    <tr style=\"text-align: right;\">\n",
              "      <th></th>\n",
              "      <th>번호</th>\n",
              "      <th>이름</th>\n",
              "      <th>국어</th>\n",
              "      <th>수학</th>\n",
              "      <th>영어</th>\n",
              "    </tr>\n",
              "  </thead>\n",
              "  <tbody>\n",
              "    <tr>\n",
              "      <th>0</th>\n",
              "      <td>1</td>\n",
              "      <td>김가가</td>\n",
              "      <td>3.6</td>\n",
              "      <td>58.3</td>\n",
              "      <td>21.2</td>\n",
              "    </tr>\n",
              "    <tr>\n",
              "      <th>2</th>\n",
              "      <td>3</td>\n",
              "      <td>윤가가</td>\n",
              "      <td>38.0</td>\n",
              "      <td>97.3</td>\n",
              "      <td>100.0</td>\n",
              "    </tr>\n",
              "    <tr>\n",
              "      <th>4</th>\n",
              "      <td>5</td>\n",
              "      <td>임가가</td>\n",
              "      <td>41.1</td>\n",
              "      <td>53.5</td>\n",
              "      <td>27.8</td>\n",
              "    </tr>\n",
              "    <tr>\n",
              "      <th>6</th>\n",
              "      <td>7</td>\n",
              "      <td>홍가가</td>\n",
              "      <td>76.0</td>\n",
              "      <td>88.6</td>\n",
              "      <td>100.0</td>\n",
              "    </tr>\n",
              "  </tbody>\n",
              "</table>\n",
              "</div>"
            ],
            "text/plain": [
              "   번호   이름    국어    수학     영어\n",
              "0   1  김가가   3.6  58.3   21.2\n",
              "2   3  윤가가  38.0  97.3  100.0\n",
              "4   5  임가가  41.1  53.5   27.8\n",
              "6   7  홍가가  76.0  88.6  100.0"
            ]
          },
          "metadata": {},
          "execution_count": 18
        }
      ]
    },
    {
      "cell_type": "code",
      "metadata": {
        "colab": {
          "base_uri": "https://localhost:8080/",
          "height": 142
        },
        "id": "jNNeQ_vxi4_7",
        "outputId": "1ad19302-7fbe-4b77-8bdb-2ce1f7b698ef"
      },
      "source": [
        "df[(df['국어'] < 50) & (df['이름'].str.contains('가'))]"
      ],
      "execution_count": 20,
      "outputs": [
        {
          "output_type": "execute_result",
          "data": {
            "text/html": [
              "<div>\n",
              "<style scoped>\n",
              "    .dataframe tbody tr th:only-of-type {\n",
              "        vertical-align: middle;\n",
              "    }\n",
              "\n",
              "    .dataframe tbody tr th {\n",
              "        vertical-align: top;\n",
              "    }\n",
              "\n",
              "    .dataframe thead th {\n",
              "        text-align: right;\n",
              "    }\n",
              "</style>\n",
              "<table border=\"1\" class=\"dataframe\">\n",
              "  <thead>\n",
              "    <tr style=\"text-align: right;\">\n",
              "      <th></th>\n",
              "      <th>번호</th>\n",
              "      <th>이름</th>\n",
              "      <th>국어</th>\n",
              "      <th>수학</th>\n",
              "      <th>영어</th>\n",
              "    </tr>\n",
              "  </thead>\n",
              "  <tbody>\n",
              "    <tr>\n",
              "      <th>0</th>\n",
              "      <td>1</td>\n",
              "      <td>김가가</td>\n",
              "      <td>3.6</td>\n",
              "      <td>58.3</td>\n",
              "      <td>21.2</td>\n",
              "    </tr>\n",
              "    <tr>\n",
              "      <th>2</th>\n",
              "      <td>3</td>\n",
              "      <td>윤가가</td>\n",
              "      <td>38.0</td>\n",
              "      <td>97.3</td>\n",
              "      <td>100.0</td>\n",
              "    </tr>\n",
              "    <tr>\n",
              "      <th>4</th>\n",
              "      <td>5</td>\n",
              "      <td>임가가</td>\n",
              "      <td>41.1</td>\n",
              "      <td>53.5</td>\n",
              "      <td>27.8</td>\n",
              "    </tr>\n",
              "  </tbody>\n",
              "</table>\n",
              "</div>"
            ],
            "text/plain": [
              "   번호   이름    국어    수학     영어\n",
              "0   1  김가가   3.6  58.3   21.2\n",
              "2   3  윤가가  38.0  97.3  100.0\n",
              "4   5  임가가  41.1  53.5   27.8"
            ]
          },
          "metadata": {},
          "execution_count": 20
        }
      ]
    },
    {
      "cell_type": "code",
      "metadata": {
        "colab": {
          "base_uri": "https://localhost:8080/",
          "height": 266
        },
        "id": "C82QpT53kbse",
        "outputId": "91126e86-3a75-4067-fe58-ee43cfa8d375"
      },
      "source": [
        "df[(df['국어'] < 50) | (df['이름'].str.contains('가'))]"
      ],
      "execution_count": 21,
      "outputs": [
        {
          "output_type": "execute_result",
          "data": {
            "text/html": [
              "<div>\n",
              "<style scoped>\n",
              "    .dataframe tbody tr th:only-of-type {\n",
              "        vertical-align: middle;\n",
              "    }\n",
              "\n",
              "    .dataframe tbody tr th {\n",
              "        vertical-align: top;\n",
              "    }\n",
              "\n",
              "    .dataframe thead th {\n",
              "        text-align: right;\n",
              "    }\n",
              "</style>\n",
              "<table border=\"1\" class=\"dataframe\">\n",
              "  <thead>\n",
              "    <tr style=\"text-align: right;\">\n",
              "      <th></th>\n",
              "      <th>번호</th>\n",
              "      <th>이름</th>\n",
              "      <th>국어</th>\n",
              "      <th>수학</th>\n",
              "      <th>영어</th>\n",
              "    </tr>\n",
              "  </thead>\n",
              "  <tbody>\n",
              "    <tr>\n",
              "      <th>0</th>\n",
              "      <td>1</td>\n",
              "      <td>김가가</td>\n",
              "      <td>3.6</td>\n",
              "      <td>58.3</td>\n",
              "      <td>21.2</td>\n",
              "    </tr>\n",
              "    <tr>\n",
              "      <th>2</th>\n",
              "      <td>3</td>\n",
              "      <td>윤가가</td>\n",
              "      <td>38.0</td>\n",
              "      <td>97.3</td>\n",
              "      <td>100.0</td>\n",
              "    </tr>\n",
              "    <tr>\n",
              "      <th>3</th>\n",
              "      <td>4</td>\n",
              "      <td>윤나나</td>\n",
              "      <td>25.0</td>\n",
              "      <td>18.4</td>\n",
              "      <td>48.3</td>\n",
              "    </tr>\n",
              "    <tr>\n",
              "      <th>4</th>\n",
              "      <td>5</td>\n",
              "      <td>임가가</td>\n",
              "      <td>41.1</td>\n",
              "      <td>53.5</td>\n",
              "      <td>27.8</td>\n",
              "    </tr>\n",
              "    <tr>\n",
              "      <th>6</th>\n",
              "      <td>7</td>\n",
              "      <td>홍가가</td>\n",
              "      <td>76.0</td>\n",
              "      <td>88.6</td>\n",
              "      <td>100.0</td>\n",
              "    </tr>\n",
              "    <tr>\n",
              "      <th>7</th>\n",
              "      <td>8</td>\n",
              "      <td>홍나나</td>\n",
              "      <td>0.0</td>\n",
              "      <td>62.9</td>\n",
              "      <td>64.8</td>\n",
              "    </tr>\n",
              "    <tr>\n",
              "      <th>9</th>\n",
              "      <td>10</td>\n",
              "      <td>홍길동</td>\n",
              "      <td>0.0</td>\n",
              "      <td>28.2</td>\n",
              "      <td>69.5</td>\n",
              "    </tr>\n",
              "  </tbody>\n",
              "</table>\n",
              "</div>"
            ],
            "text/plain": [
              "   번호   이름    국어    수학     영어\n",
              "0   1  김가가   3.6  58.3   21.2\n",
              "2   3  윤가가  38.0  97.3  100.0\n",
              "3   4  윤나나  25.0  18.4   48.3\n",
              "4   5  임가가  41.1  53.5   27.8\n",
              "6   7  홍가가  76.0  88.6  100.0\n",
              "7   8  홍나나   0.0  62.9   64.8\n",
              "9  10  홍길동   0.0  28.2   69.5"
            ]
          },
          "metadata": {},
          "execution_count": 21
        }
      ]
    },
    {
      "cell_type": "code",
      "metadata": {
        "colab": {
          "base_uri": "https://localhost:8080/"
        },
        "id": "ANIpaacckglB",
        "outputId": "d1fbb73d-c47f-456d-9fda-5fbc36bb25f5"
      },
      "source": [
        "df['국어']-df['수학']"
      ],
      "execution_count": 22,
      "outputs": [
        {
          "output_type": "execute_result",
          "data": {
            "text/plain": [
              "0   -54.7\n",
              "1   -28.5\n",
              "2   -59.3\n",
              "3     6.6\n",
              "4   -12.4\n",
              "5    46.0\n",
              "6   -12.6\n",
              "7   -62.9\n",
              "8    45.5\n",
              "9   -28.2\n",
              "dtype: float64"
            ]
          },
          "metadata": {},
          "execution_count": 22
        }
      ]
    },
    {
      "cell_type": "code",
      "metadata": {
        "colab": {
          "base_uri": "https://localhost:8080/",
          "height": 204
        },
        "id": "2SZFzoh5lA6R",
        "outputId": "76ce57d9-69f5-4043-e97d-4265306c4f01"
      },
      "source": [
        "df['국수합']=df['국어']+df['수학']\n",
        "df.head()"
      ],
      "execution_count": 24,
      "outputs": [
        {
          "output_type": "execute_result",
          "data": {
            "text/html": [
              "<div>\n",
              "<style scoped>\n",
              "    .dataframe tbody tr th:only-of-type {\n",
              "        vertical-align: middle;\n",
              "    }\n",
              "\n",
              "    .dataframe tbody tr th {\n",
              "        vertical-align: top;\n",
              "    }\n",
              "\n",
              "    .dataframe thead th {\n",
              "        text-align: right;\n",
              "    }\n",
              "</style>\n",
              "<table border=\"1\" class=\"dataframe\">\n",
              "  <thead>\n",
              "    <tr style=\"text-align: right;\">\n",
              "      <th></th>\n",
              "      <th>번호</th>\n",
              "      <th>이름</th>\n",
              "      <th>국어</th>\n",
              "      <th>수학</th>\n",
              "      <th>영어</th>\n",
              "      <th>국수합</th>\n",
              "    </tr>\n",
              "  </thead>\n",
              "  <tbody>\n",
              "    <tr>\n",
              "      <th>0</th>\n",
              "      <td>1</td>\n",
              "      <td>김가가</td>\n",
              "      <td>3.6</td>\n",
              "      <td>58.3</td>\n",
              "      <td>21.2</td>\n",
              "      <td>61.9</td>\n",
              "    </tr>\n",
              "    <tr>\n",
              "      <th>1</th>\n",
              "      <td>2</td>\n",
              "      <td>김나나</td>\n",
              "      <td>54.1</td>\n",
              "      <td>82.6</td>\n",
              "      <td>86.0</td>\n",
              "      <td>136.7</td>\n",
              "    </tr>\n",
              "    <tr>\n",
              "      <th>2</th>\n",
              "      <td>3</td>\n",
              "      <td>윤가가</td>\n",
              "      <td>38.0</td>\n",
              "      <td>97.3</td>\n",
              "      <td>100.0</td>\n",
              "      <td>135.3</td>\n",
              "    </tr>\n",
              "    <tr>\n",
              "      <th>3</th>\n",
              "      <td>4</td>\n",
              "      <td>윤나나</td>\n",
              "      <td>25.0</td>\n",
              "      <td>18.4</td>\n",
              "      <td>48.3</td>\n",
              "      <td>43.4</td>\n",
              "    </tr>\n",
              "    <tr>\n",
              "      <th>4</th>\n",
              "      <td>5</td>\n",
              "      <td>임가가</td>\n",
              "      <td>41.1</td>\n",
              "      <td>53.5</td>\n",
              "      <td>27.8</td>\n",
              "      <td>94.6</td>\n",
              "    </tr>\n",
              "  </tbody>\n",
              "</table>\n",
              "</div>"
            ],
            "text/plain": [
              "   번호   이름    국어    수학     영어    국수합\n",
              "0   1  김가가   3.6  58.3   21.2   61.9\n",
              "1   2  김나나  54.1  82.6   86.0  136.7\n",
              "2   3  윤가가  38.0  97.3  100.0  135.3\n",
              "3   4  윤나나  25.0  18.4   48.3   43.4\n",
              "4   5  임가가  41.1  53.5   27.8   94.6"
            ]
          },
          "metadata": {},
          "execution_count": 24
        }
      ]
    },
    {
      "cell_type": "code",
      "metadata": {
        "colab": {
          "base_uri": "https://localhost:8080/"
        },
        "id": "jvhbPlEjmPJ5",
        "outputId": "5724a4a9-dd5a-4e94-b846-b9443aabf190"
      },
      "source": [
        "df['국어'].mean()"
      ],
      "execution_count": 25,
      "outputs": [
        {
          "output_type": "execute_result",
          "data": {
            "text/plain": [
              "35.38000000000001"
            ]
          },
          "metadata": {},
          "execution_count": 25
        }
      ]
    },
    {
      "cell_type": "code",
      "metadata": {
        "colab": {
          "base_uri": "https://localhost:8080/"
        },
        "id": "FSOkBEXWmcay",
        "outputId": "3dfe2774-2fb2-48a7-f885-597d6746fad8"
      },
      "source": [
        "df['국어'].min()"
      ],
      "execution_count": 26,
      "outputs": [
        {
          "output_type": "execute_result",
          "data": {
            "text/plain": [
              "0.0"
            ]
          },
          "metadata": {},
          "execution_count": 26
        }
      ]
    },
    {
      "cell_type": "code",
      "metadata": {
        "colab": {
          "base_uri": "https://localhost:8080/"
        },
        "id": "qV2gmYN3mgdz",
        "outputId": "28e4c283-1a63-4231-f6e6-65b8e9b3131c"
      },
      "source": [
        "df['국어'].max()"
      ],
      "execution_count": 31,
      "outputs": [
        {
          "output_type": "execute_result",
          "data": {
            "text/plain": [
              "76.0"
            ]
          },
          "metadata": {},
          "execution_count": 31
        }
      ]
    },
    {
      "cell_type": "code",
      "metadata": {
        "colab": {
          "base_uri": "https://localhost:8080/"
        },
        "id": "YnDYBnhQmm-_",
        "outputId": "57eda143-c3ff-4f3e-eb4a-313fbc72fa8c"
      },
      "source": [
        "df.loc[:, '국어': '영어'].sum()"
      ],
      "execution_count": 32,
      "outputs": [
        {
          "output_type": "execute_result",
          "data": {
            "text/plain": [
              "국어    353.8\n",
              "수학    514.3\n",
              "영어    606.5\n",
              "dtype: float64"
            ]
          },
          "metadata": {},
          "execution_count": 32
        }
      ]
    },
    {
      "cell_type": "code",
      "metadata": {
        "colab": {
          "base_uri": "https://localhost:8080/"
        },
        "id": "giZoRiA3m-mL",
        "outputId": "cb131930-1435-48d9-a013-eef9626d7c95"
      },
      "source": [
        "df.loc[:,'국어':'영어'].sum(axis=1)"
      ],
      "execution_count": 34,
      "outputs": [
        {
          "output_type": "execute_result",
          "data": {
            "text/plain": [
              "0     83.1\n",
              "1    222.7\n",
              "2    235.3\n",
              "3     91.7\n",
              "4    122.4\n",
              "5    107.2\n",
              "6    264.6\n",
              "7    127.7\n",
              "8    122.2\n",
              "9     97.7\n",
              "dtype: float64"
            ]
          },
          "metadata": {},
          "execution_count": 34
        }
      ]
    },
    {
      "cell_type": "code",
      "metadata": {
        "colab": {
          "base_uri": "https://localhost:8080/",
          "height": 297
        },
        "id": "j_pYB_K0nQLj",
        "outputId": "0ef82e31-17b6-4438-dd6f-212de1b1ab9b"
      },
      "source": [
        "df.describe()"
      ],
      "execution_count": 35,
      "outputs": [
        {
          "output_type": "execute_result",
          "data": {
            "text/html": [
              "<div>\n",
              "<style scoped>\n",
              "    .dataframe tbody tr th:only-of-type {\n",
              "        vertical-align: middle;\n",
              "    }\n",
              "\n",
              "    .dataframe tbody tr th {\n",
              "        vertical-align: top;\n",
              "    }\n",
              "\n",
              "    .dataframe thead th {\n",
              "        text-align: right;\n",
              "    }\n",
              "</style>\n",
              "<table border=\"1\" class=\"dataframe\">\n",
              "  <thead>\n",
              "    <tr style=\"text-align: right;\">\n",
              "      <th></th>\n",
              "      <th>번호</th>\n",
              "      <th>국어</th>\n",
              "      <th>수학</th>\n",
              "      <th>영어</th>\n",
              "      <th>국수합</th>\n",
              "    </tr>\n",
              "  </thead>\n",
              "  <tbody>\n",
              "    <tr>\n",
              "      <th>count</th>\n",
              "      <td>10.00000</td>\n",
              "      <td>10.000000</td>\n",
              "      <td>10.000000</td>\n",
              "      <td>10.000000</td>\n",
              "      <td>10.000000</td>\n",
              "    </tr>\n",
              "    <tr>\n",
              "      <th>mean</th>\n",
              "      <td>5.50000</td>\n",
              "      <td>35.380000</td>\n",
              "      <td>51.430000</td>\n",
              "      <td>60.650000</td>\n",
              "      <td>86.810000</td>\n",
              "    </tr>\n",
              "    <tr>\n",
              "      <th>std</th>\n",
              "      <td>3.02765</td>\n",
              "      <td>27.394557</td>\n",
              "      <td>32.326255</td>\n",
              "      <td>29.577854</td>\n",
              "      <td>45.066974</td>\n",
              "    </tr>\n",
              "    <tr>\n",
              "      <th>min</th>\n",
              "      <td>1.00000</td>\n",
              "      <td>0.000000</td>\n",
              "      <td>6.600000</td>\n",
              "      <td>21.200000</td>\n",
              "      <td>28.200000</td>\n",
              "    </tr>\n",
              "    <tr>\n",
              "      <th>25%</th>\n",
              "      <td>3.25000</td>\n",
              "      <td>8.950000</td>\n",
              "      <td>20.850000</td>\n",
              "      <td>32.925000</td>\n",
              "      <td>59.500000</td>\n",
              "    </tr>\n",
              "    <tr>\n",
              "      <th>50%</th>\n",
              "      <td>5.50000</td>\n",
              "      <td>39.550000</td>\n",
              "      <td>55.900000</td>\n",
              "      <td>64.150000</td>\n",
              "      <td>72.350000</td>\n",
              "    </tr>\n",
              "    <tr>\n",
              "      <th>75%</th>\n",
              "      <td>7.75000</td>\n",
              "      <td>53.600000</td>\n",
              "      <td>77.675000</td>\n",
              "      <td>81.875000</td>\n",
              "      <td>125.125000</td>\n",
              "    </tr>\n",
              "    <tr>\n",
              "      <th>max</th>\n",
              "      <td>10.00000</td>\n",
              "      <td>76.000000</td>\n",
              "      <td>97.300000</td>\n",
              "      <td>100.000000</td>\n",
              "      <td>164.600000</td>\n",
              "    </tr>\n",
              "  </tbody>\n",
              "</table>\n",
              "</div>"
            ],
            "text/plain": [
              "             번호         국어         수학          영어         국수합\n",
              "count  10.00000  10.000000  10.000000   10.000000   10.000000\n",
              "mean    5.50000  35.380000  51.430000   60.650000   86.810000\n",
              "std     3.02765  27.394557  32.326255   29.577854   45.066974\n",
              "min     1.00000   0.000000   6.600000   21.200000   28.200000\n",
              "25%     3.25000   8.950000  20.850000   32.925000   59.500000\n",
              "50%     5.50000  39.550000  55.900000   64.150000   72.350000\n",
              "75%     7.75000  53.600000  77.675000   81.875000  125.125000\n",
              "max    10.00000  76.000000  97.300000  100.000000  164.600000"
            ]
          },
          "metadata": {},
          "execution_count": 35
        }
      ]
    },
    {
      "cell_type": "code",
      "metadata": {
        "colab": {
          "base_uri": "https://localhost:8080/",
          "height": 359
        },
        "id": "eEgC73itnVi9",
        "outputId": "c0b7efba-e669-46d3-8e28-1e7b6f5a91d8"
      },
      "source": [
        "df.sort_values('국어')"
      ],
      "execution_count": 36,
      "outputs": [
        {
          "output_type": "execute_result",
          "data": {
            "text/html": [
              "<div>\n",
              "<style scoped>\n",
              "    .dataframe tbody tr th:only-of-type {\n",
              "        vertical-align: middle;\n",
              "    }\n",
              "\n",
              "    .dataframe tbody tr th {\n",
              "        vertical-align: top;\n",
              "    }\n",
              "\n",
              "    .dataframe thead th {\n",
              "        text-align: right;\n",
              "    }\n",
              "</style>\n",
              "<table border=\"1\" class=\"dataframe\">\n",
              "  <thead>\n",
              "    <tr style=\"text-align: right;\">\n",
              "      <th></th>\n",
              "      <th>번호</th>\n",
              "      <th>이름</th>\n",
              "      <th>국어</th>\n",
              "      <th>수학</th>\n",
              "      <th>영어</th>\n",
              "      <th>국수합</th>\n",
              "    </tr>\n",
              "  </thead>\n",
              "  <tbody>\n",
              "    <tr>\n",
              "      <th>7</th>\n",
              "      <td>8</td>\n",
              "      <td>홍나나</td>\n",
              "      <td>0.0</td>\n",
              "      <td>62.9</td>\n",
              "      <td>64.8</td>\n",
              "      <td>62.9</td>\n",
              "    </tr>\n",
              "    <tr>\n",
              "      <th>9</th>\n",
              "      <td>10</td>\n",
              "      <td>홍길동</td>\n",
              "      <td>0.0</td>\n",
              "      <td>28.2</td>\n",
              "      <td>69.5</td>\n",
              "      <td>28.2</td>\n",
              "    </tr>\n",
              "    <tr>\n",
              "      <th>0</th>\n",
              "      <td>1</td>\n",
              "      <td>김가가</td>\n",
              "      <td>3.6</td>\n",
              "      <td>58.3</td>\n",
              "      <td>21.2</td>\n",
              "      <td>61.9</td>\n",
              "    </tr>\n",
              "    <tr>\n",
              "      <th>3</th>\n",
              "      <td>4</td>\n",
              "      <td>윤나나</td>\n",
              "      <td>25.0</td>\n",
              "      <td>18.4</td>\n",
              "      <td>48.3</td>\n",
              "      <td>43.4</td>\n",
              "    </tr>\n",
              "    <tr>\n",
              "      <th>2</th>\n",
              "      <td>3</td>\n",
              "      <td>윤가가</td>\n",
              "      <td>38.0</td>\n",
              "      <td>97.3</td>\n",
              "      <td>100.0</td>\n",
              "      <td>135.3</td>\n",
              "    </tr>\n",
              "    <tr>\n",
              "      <th>4</th>\n",
              "      <td>5</td>\n",
              "      <td>임가가</td>\n",
              "      <td>41.1</td>\n",
              "      <td>53.5</td>\n",
              "      <td>27.8</td>\n",
              "      <td>94.6</td>\n",
              "    </tr>\n",
              "    <tr>\n",
              "      <th>8</th>\n",
              "      <td>9</td>\n",
              "      <td>홍다다</td>\n",
              "      <td>52.1</td>\n",
              "      <td>6.6</td>\n",
              "      <td>63.5</td>\n",
              "      <td>58.7</td>\n",
              "    </tr>\n",
              "    <tr>\n",
              "      <th>1</th>\n",
              "      <td>2</td>\n",
              "      <td>김나나</td>\n",
              "      <td>54.1</td>\n",
              "      <td>82.6</td>\n",
              "      <td>86.0</td>\n",
              "      <td>136.7</td>\n",
              "    </tr>\n",
              "    <tr>\n",
              "      <th>5</th>\n",
              "      <td>6</td>\n",
              "      <td>임나나</td>\n",
              "      <td>63.9</td>\n",
              "      <td>17.9</td>\n",
              "      <td>25.4</td>\n",
              "      <td>81.8</td>\n",
              "    </tr>\n",
              "    <tr>\n",
              "      <th>6</th>\n",
              "      <td>7</td>\n",
              "      <td>홍가가</td>\n",
              "      <td>76.0</td>\n",
              "      <td>88.6</td>\n",
              "      <td>100.0</td>\n",
              "      <td>164.6</td>\n",
              "    </tr>\n",
              "  </tbody>\n",
              "</table>\n",
              "</div>"
            ],
            "text/plain": [
              "   번호   이름    국어    수학     영어    국수합\n",
              "7   8  홍나나   0.0  62.9   64.8   62.9\n",
              "9  10  홍길동   0.0  28.2   69.5   28.2\n",
              "0   1  김가가   3.6  58.3   21.2   61.9\n",
              "3   4  윤나나  25.0  18.4   48.3   43.4\n",
              "2   3  윤가가  38.0  97.3  100.0  135.3\n",
              "4   5  임가가  41.1  53.5   27.8   94.6\n",
              "8   9  홍다다  52.1   6.6   63.5   58.7\n",
              "1   2  김나나  54.1  82.6   86.0  136.7\n",
              "5   6  임나나  63.9  17.9   25.4   81.8\n",
              "6   7  홍가가  76.0  88.6  100.0  164.6"
            ]
          },
          "metadata": {},
          "execution_count": 36
        }
      ]
    },
    {
      "cell_type": "code",
      "metadata": {
        "colab": {
          "base_uri": "https://localhost:8080/",
          "height": 204
        },
        "id": "EfIxcgcrnZwu",
        "outputId": "0f883a6b-d642-4923-91ee-76b4488418f9"
      },
      "source": [
        "df2 = df.copy()\n",
        "df2.head()"
      ],
      "execution_count": 37,
      "outputs": [
        {
          "output_type": "execute_result",
          "data": {
            "text/html": [
              "<div>\n",
              "<style scoped>\n",
              "    .dataframe tbody tr th:only-of-type {\n",
              "        vertical-align: middle;\n",
              "    }\n",
              "\n",
              "    .dataframe tbody tr th {\n",
              "        vertical-align: top;\n",
              "    }\n",
              "\n",
              "    .dataframe thead th {\n",
              "        text-align: right;\n",
              "    }\n",
              "</style>\n",
              "<table border=\"1\" class=\"dataframe\">\n",
              "  <thead>\n",
              "    <tr style=\"text-align: right;\">\n",
              "      <th></th>\n",
              "      <th>번호</th>\n",
              "      <th>이름</th>\n",
              "      <th>국어</th>\n",
              "      <th>수학</th>\n",
              "      <th>영어</th>\n",
              "      <th>국수합</th>\n",
              "    </tr>\n",
              "  </thead>\n",
              "  <tbody>\n",
              "    <tr>\n",
              "      <th>0</th>\n",
              "      <td>1</td>\n",
              "      <td>김가가</td>\n",
              "      <td>3.6</td>\n",
              "      <td>58.3</td>\n",
              "      <td>21.2</td>\n",
              "      <td>61.9</td>\n",
              "    </tr>\n",
              "    <tr>\n",
              "      <th>1</th>\n",
              "      <td>2</td>\n",
              "      <td>김나나</td>\n",
              "      <td>54.1</td>\n",
              "      <td>82.6</td>\n",
              "      <td>86.0</td>\n",
              "      <td>136.7</td>\n",
              "    </tr>\n",
              "    <tr>\n",
              "      <th>2</th>\n",
              "      <td>3</td>\n",
              "      <td>윤가가</td>\n",
              "      <td>38.0</td>\n",
              "      <td>97.3</td>\n",
              "      <td>100.0</td>\n",
              "      <td>135.3</td>\n",
              "    </tr>\n",
              "    <tr>\n",
              "      <th>3</th>\n",
              "      <td>4</td>\n",
              "      <td>윤나나</td>\n",
              "      <td>25.0</td>\n",
              "      <td>18.4</td>\n",
              "      <td>48.3</td>\n",
              "      <td>43.4</td>\n",
              "    </tr>\n",
              "    <tr>\n",
              "      <th>4</th>\n",
              "      <td>5</td>\n",
              "      <td>임가가</td>\n",
              "      <td>41.1</td>\n",
              "      <td>53.5</td>\n",
              "      <td>27.8</td>\n",
              "      <td>94.6</td>\n",
              "    </tr>\n",
              "  </tbody>\n",
              "</table>\n",
              "</div>"
            ],
            "text/plain": [
              "   번호   이름    국어    수학     영어    국수합\n",
              "0   1  김가가   3.6  58.3   21.2   61.9\n",
              "1   2  김나나  54.1  82.6   86.0  136.7\n",
              "2   3  윤가가  38.0  97.3  100.0  135.3\n",
              "3   4  윤나나  25.0  18.4   48.3   43.4\n",
              "4   5  임가가  41.1  53.5   27.8   94.6"
            ]
          },
          "metadata": {},
          "execution_count": 37
        }
      ]
    },
    {
      "cell_type": "code",
      "metadata": {
        "colab": {
          "base_uri": "https://localhost:8080/"
        },
        "id": "Ps4VHXs7ngIo",
        "outputId": "6022e533-bf00-4b39-d5b4-679f3dc263b7"
      },
      "source": [
        "def FamilyName(x):\n",
        "  return x[0]\n",
        "df['이름'].apply(FamilyName)"
      ],
      "execution_count": 38,
      "outputs": [
        {
          "output_type": "execute_result",
          "data": {
            "text/plain": [
              "0    김\n",
              "1    김\n",
              "2    윤\n",
              "3    윤\n",
              "4    임\n",
              "5    임\n",
              "6    홍\n",
              "7    홍\n",
              "8    홍\n",
              "9    홍\n",
              "Name: 이름, dtype: object"
            ]
          },
          "metadata": {},
          "execution_count": 38
        }
      ]
    },
    {
      "cell_type": "code",
      "metadata": {
        "colab": {
          "base_uri": "https://localhost:8080/"
        },
        "id": "I3Bkli5XnyVS",
        "outputId": "45bc5202-a734-4507-9dca-c343c3b071ea"
      },
      "source": [
        "df.loc[:, '국어':'영어'].to_numpy()"
      ],
      "execution_count": 39,
      "outputs": [
        {
          "output_type": "execute_result",
          "data": {
            "text/plain": [
              "array([[  3.6,  58.3,  21.2],\n",
              "       [ 54.1,  82.6,  86. ],\n",
              "       [ 38. ,  97.3, 100. ],\n",
              "       [ 25. ,  18.4,  48.3],\n",
              "       [ 41.1,  53.5,  27.8],\n",
              "       [ 63.9,  17.9,  25.4],\n",
              "       [ 76. ,  88.6, 100. ],\n",
              "       [  0. ,  62.9,  64.8],\n",
              "       [ 52.1,   6.6,  63.5],\n",
              "       [  0. ,  28.2,  69.5]])"
            ]
          },
          "metadata": {},
          "execution_count": 39
        }
      ]
    },
    {
      "cell_type": "code",
      "metadata": {
        "colab": {
          "base_uri": "https://localhost:8080/",
          "height": 173
        },
        "id": "2S9tGOh_n-HI",
        "outputId": "0761273f-68b2-425c-b2ad-72f3ad55ce9b"
      },
      "source": [
        "df2 = pd.read_csv('/content/drive/MyDrive/colab/test2.csv', encoding='cp949')\n",
        "df2.head()"
      ],
      "execution_count": 40,
      "outputs": [
        {
          "output_type": "execute_result",
          "data": {
            "text/html": [
              "<div>\n",
              "<style scoped>\n",
              "    .dataframe tbody tr th:only-of-type {\n",
              "        vertical-align: middle;\n",
              "    }\n",
              "\n",
              "    .dataframe tbody tr th {\n",
              "        vertical-align: top;\n",
              "    }\n",
              "\n",
              "    .dataframe thead th {\n",
              "        text-align: right;\n",
              "    }\n",
              "</style>\n",
              "<table border=\"1\" class=\"dataframe\">\n",
              "  <thead>\n",
              "    <tr style=\"text-align: right;\">\n",
              "      <th></th>\n",
              "      <th>번호</th>\n",
              "      <th>이름</th>\n",
              "      <th>사회</th>\n",
              "      <th>과학</th>\n",
              "    </tr>\n",
              "  </thead>\n",
              "  <tbody>\n",
              "    <tr>\n",
              "      <th>0</th>\n",
              "      <td>1</td>\n",
              "      <td>김가가</td>\n",
              "      <td>1.8</td>\n",
              "      <td>46.5</td>\n",
              "    </tr>\n",
              "    <tr>\n",
              "      <th>1</th>\n",
              "      <td>2</td>\n",
              "      <td>김나나</td>\n",
              "      <td>21.8</td>\n",
              "      <td>67.4</td>\n",
              "    </tr>\n",
              "    <tr>\n",
              "      <th>2</th>\n",
              "      <td>3</td>\n",
              "      <td>장가가</td>\n",
              "      <td>56.8</td>\n",
              "      <td>85.1</td>\n",
              "    </tr>\n",
              "    <tr>\n",
              "      <th>3</th>\n",
              "      <td>4</td>\n",
              "      <td>장나나</td>\n",
              "      <td>98.4</td>\n",
              "      <td>3.6</td>\n",
              "    </tr>\n",
              "  </tbody>\n",
              "</table>\n",
              "</div>"
            ],
            "text/plain": [
              "   번호   이름    사회    과학\n",
              "0   1  김가가   1.8  46.5\n",
              "1   2  김나나  21.8  67.4\n",
              "2   3  장가가  56.8  85.1\n",
              "3   4  장나나  98.4   3.6"
            ]
          },
          "metadata": {},
          "execution_count": 40
        }
      ]
    },
    {
      "cell_type": "code",
      "metadata": {
        "colab": {
          "base_uri": "https://localhost:8080/",
          "height": 359
        },
        "id": "DNZ8CMTJoMvV",
        "outputId": "43f84181-3e21-4ba1-e16d-b1b74bd28295"
      },
      "source": [
        "df3 = df.merge(df2, left_on='이름', right_on='이름', how='left')\n",
        "df3"
      ],
      "execution_count": 41,
      "outputs": [
        {
          "output_type": "execute_result",
          "data": {
            "text/html": [
              "<div>\n",
              "<style scoped>\n",
              "    .dataframe tbody tr th:only-of-type {\n",
              "        vertical-align: middle;\n",
              "    }\n",
              "\n",
              "    .dataframe tbody tr th {\n",
              "        vertical-align: top;\n",
              "    }\n",
              "\n",
              "    .dataframe thead th {\n",
              "        text-align: right;\n",
              "    }\n",
              "</style>\n",
              "<table border=\"1\" class=\"dataframe\">\n",
              "  <thead>\n",
              "    <tr style=\"text-align: right;\">\n",
              "      <th></th>\n",
              "      <th>번호_x</th>\n",
              "      <th>이름</th>\n",
              "      <th>국어</th>\n",
              "      <th>수학</th>\n",
              "      <th>영어</th>\n",
              "      <th>국수합</th>\n",
              "      <th>번호_y</th>\n",
              "      <th>사회</th>\n",
              "      <th>과학</th>\n",
              "    </tr>\n",
              "  </thead>\n",
              "  <tbody>\n",
              "    <tr>\n",
              "      <th>0</th>\n",
              "      <td>1</td>\n",
              "      <td>김가가</td>\n",
              "      <td>3.6</td>\n",
              "      <td>58.3</td>\n",
              "      <td>21.2</td>\n",
              "      <td>61.9</td>\n",
              "      <td>1.0</td>\n",
              "      <td>1.8</td>\n",
              "      <td>46.5</td>\n",
              "    </tr>\n",
              "    <tr>\n",
              "      <th>1</th>\n",
              "      <td>2</td>\n",
              "      <td>김나나</td>\n",
              "      <td>54.1</td>\n",
              "      <td>82.6</td>\n",
              "      <td>86.0</td>\n",
              "      <td>136.7</td>\n",
              "      <td>2.0</td>\n",
              "      <td>21.8</td>\n",
              "      <td>67.4</td>\n",
              "    </tr>\n",
              "    <tr>\n",
              "      <th>2</th>\n",
              "      <td>3</td>\n",
              "      <td>윤가가</td>\n",
              "      <td>38.0</td>\n",
              "      <td>97.3</td>\n",
              "      <td>100.0</td>\n",
              "      <td>135.3</td>\n",
              "      <td>NaN</td>\n",
              "      <td>NaN</td>\n",
              "      <td>NaN</td>\n",
              "    </tr>\n",
              "    <tr>\n",
              "      <th>3</th>\n",
              "      <td>4</td>\n",
              "      <td>윤나나</td>\n",
              "      <td>25.0</td>\n",
              "      <td>18.4</td>\n",
              "      <td>48.3</td>\n",
              "      <td>43.4</td>\n",
              "      <td>NaN</td>\n",
              "      <td>NaN</td>\n",
              "      <td>NaN</td>\n",
              "    </tr>\n",
              "    <tr>\n",
              "      <th>4</th>\n",
              "      <td>5</td>\n",
              "      <td>임가가</td>\n",
              "      <td>41.1</td>\n",
              "      <td>53.5</td>\n",
              "      <td>27.8</td>\n",
              "      <td>94.6</td>\n",
              "      <td>NaN</td>\n",
              "      <td>NaN</td>\n",
              "      <td>NaN</td>\n",
              "    </tr>\n",
              "    <tr>\n",
              "      <th>5</th>\n",
              "      <td>6</td>\n",
              "      <td>임나나</td>\n",
              "      <td>63.9</td>\n",
              "      <td>17.9</td>\n",
              "      <td>25.4</td>\n",
              "      <td>81.8</td>\n",
              "      <td>NaN</td>\n",
              "      <td>NaN</td>\n",
              "      <td>NaN</td>\n",
              "    </tr>\n",
              "    <tr>\n",
              "      <th>6</th>\n",
              "      <td>7</td>\n",
              "      <td>홍가가</td>\n",
              "      <td>76.0</td>\n",
              "      <td>88.6</td>\n",
              "      <td>100.0</td>\n",
              "      <td>164.6</td>\n",
              "      <td>NaN</td>\n",
              "      <td>NaN</td>\n",
              "      <td>NaN</td>\n",
              "    </tr>\n",
              "    <tr>\n",
              "      <th>7</th>\n",
              "      <td>8</td>\n",
              "      <td>홍나나</td>\n",
              "      <td>0.0</td>\n",
              "      <td>62.9</td>\n",
              "      <td>64.8</td>\n",
              "      <td>62.9</td>\n",
              "      <td>NaN</td>\n",
              "      <td>NaN</td>\n",
              "      <td>NaN</td>\n",
              "    </tr>\n",
              "    <tr>\n",
              "      <th>8</th>\n",
              "      <td>9</td>\n",
              "      <td>홍다다</td>\n",
              "      <td>52.1</td>\n",
              "      <td>6.6</td>\n",
              "      <td>63.5</td>\n",
              "      <td>58.7</td>\n",
              "      <td>NaN</td>\n",
              "      <td>NaN</td>\n",
              "      <td>NaN</td>\n",
              "    </tr>\n",
              "    <tr>\n",
              "      <th>9</th>\n",
              "      <td>10</td>\n",
              "      <td>홍길동</td>\n",
              "      <td>0.0</td>\n",
              "      <td>28.2</td>\n",
              "      <td>69.5</td>\n",
              "      <td>28.2</td>\n",
              "      <td>NaN</td>\n",
              "      <td>NaN</td>\n",
              "      <td>NaN</td>\n",
              "    </tr>\n",
              "  </tbody>\n",
              "</table>\n",
              "</div>"
            ],
            "text/plain": [
              "   번호_x   이름    국어    수학     영어    국수합  번호_y    사회    과학\n",
              "0     1  김가가   3.6  58.3   21.2   61.9   1.0   1.8  46.5\n",
              "1     2  김나나  54.1  82.6   86.0  136.7   2.0  21.8  67.4\n",
              "2     3  윤가가  38.0  97.3  100.0  135.3   NaN   NaN   NaN\n",
              "3     4  윤나나  25.0  18.4   48.3   43.4   NaN   NaN   NaN\n",
              "4     5  임가가  41.1  53.5   27.8   94.6   NaN   NaN   NaN\n",
              "5     6  임나나  63.9  17.9   25.4   81.8   NaN   NaN   NaN\n",
              "6     7  홍가가  76.0  88.6  100.0  164.6   NaN   NaN   NaN\n",
              "7     8  홍나나   0.0  62.9   64.8   62.9   NaN   NaN   NaN\n",
              "8     9  홍다다  52.1   6.6   63.5   58.7   NaN   NaN   NaN\n",
              "9    10  홍길동   0.0  28.2   69.5   28.2   NaN   NaN   NaN"
            ]
          },
          "metadata": {},
          "execution_count": 41
        }
      ]
    },
    {
      "cell_type": "code",
      "metadata": {
        "colab": {
          "base_uri": "https://localhost:8080/"
        },
        "id": "Di6PwfasovSt",
        "outputId": "03a15888-04c3-46e9-a02d-965e408bc66e"
      },
      "source": [
        "df3.info()"
      ],
      "execution_count": 42,
      "outputs": [
        {
          "output_type": "stream",
          "name": "stdout",
          "text": [
            "<class 'pandas.core.frame.DataFrame'>\n",
            "Int64Index: 10 entries, 0 to 9\n",
            "Data columns (total 9 columns):\n",
            " #   Column  Non-Null Count  Dtype  \n",
            "---  ------  --------------  -----  \n",
            " 0   번호_x    10 non-null     int64  \n",
            " 1   이름      10 non-null     object \n",
            " 2   국어      10 non-null     float64\n",
            " 3   수학      10 non-null     float64\n",
            " 4   영어      10 non-null     float64\n",
            " 5   국수합     10 non-null     float64\n",
            " 6   번호_y    2 non-null      float64\n",
            " 7   사회      2 non-null      float64\n",
            " 8   과학      2 non-null      float64\n",
            "dtypes: float64(7), int64(1), object(1)\n",
            "memory usage: 800.0+ bytes\n"
          ]
        }
      ]
    },
    {
      "cell_type": "code",
      "metadata": {
        "colab": {
          "base_uri": "https://localhost:8080/",
          "height": 359
        },
        "id": "GJyLR1TQox0m",
        "outputId": "debcc314-07d1-426a-c714-e19377cde830"
      },
      "source": [
        "df3.isnull()"
      ],
      "execution_count": 43,
      "outputs": [
        {
          "output_type": "execute_result",
          "data": {
            "text/html": [
              "<div>\n",
              "<style scoped>\n",
              "    .dataframe tbody tr th:only-of-type {\n",
              "        vertical-align: middle;\n",
              "    }\n",
              "\n",
              "    .dataframe tbody tr th {\n",
              "        vertical-align: top;\n",
              "    }\n",
              "\n",
              "    .dataframe thead th {\n",
              "        text-align: right;\n",
              "    }\n",
              "</style>\n",
              "<table border=\"1\" class=\"dataframe\">\n",
              "  <thead>\n",
              "    <tr style=\"text-align: right;\">\n",
              "      <th></th>\n",
              "      <th>번호_x</th>\n",
              "      <th>이름</th>\n",
              "      <th>국어</th>\n",
              "      <th>수학</th>\n",
              "      <th>영어</th>\n",
              "      <th>국수합</th>\n",
              "      <th>번호_y</th>\n",
              "      <th>사회</th>\n",
              "      <th>과학</th>\n",
              "    </tr>\n",
              "  </thead>\n",
              "  <tbody>\n",
              "    <tr>\n",
              "      <th>0</th>\n",
              "      <td>False</td>\n",
              "      <td>False</td>\n",
              "      <td>False</td>\n",
              "      <td>False</td>\n",
              "      <td>False</td>\n",
              "      <td>False</td>\n",
              "      <td>False</td>\n",
              "      <td>False</td>\n",
              "      <td>False</td>\n",
              "    </tr>\n",
              "    <tr>\n",
              "      <th>1</th>\n",
              "      <td>False</td>\n",
              "      <td>False</td>\n",
              "      <td>False</td>\n",
              "      <td>False</td>\n",
              "      <td>False</td>\n",
              "      <td>False</td>\n",
              "      <td>False</td>\n",
              "      <td>False</td>\n",
              "      <td>False</td>\n",
              "    </tr>\n",
              "    <tr>\n",
              "      <th>2</th>\n",
              "      <td>False</td>\n",
              "      <td>False</td>\n",
              "      <td>False</td>\n",
              "      <td>False</td>\n",
              "      <td>False</td>\n",
              "      <td>False</td>\n",
              "      <td>True</td>\n",
              "      <td>True</td>\n",
              "      <td>True</td>\n",
              "    </tr>\n",
              "    <tr>\n",
              "      <th>3</th>\n",
              "      <td>False</td>\n",
              "      <td>False</td>\n",
              "      <td>False</td>\n",
              "      <td>False</td>\n",
              "      <td>False</td>\n",
              "      <td>False</td>\n",
              "      <td>True</td>\n",
              "      <td>True</td>\n",
              "      <td>True</td>\n",
              "    </tr>\n",
              "    <tr>\n",
              "      <th>4</th>\n",
              "      <td>False</td>\n",
              "      <td>False</td>\n",
              "      <td>False</td>\n",
              "      <td>False</td>\n",
              "      <td>False</td>\n",
              "      <td>False</td>\n",
              "      <td>True</td>\n",
              "      <td>True</td>\n",
              "      <td>True</td>\n",
              "    </tr>\n",
              "    <tr>\n",
              "      <th>5</th>\n",
              "      <td>False</td>\n",
              "      <td>False</td>\n",
              "      <td>False</td>\n",
              "      <td>False</td>\n",
              "      <td>False</td>\n",
              "      <td>False</td>\n",
              "      <td>True</td>\n",
              "      <td>True</td>\n",
              "      <td>True</td>\n",
              "    </tr>\n",
              "    <tr>\n",
              "      <th>6</th>\n",
              "      <td>False</td>\n",
              "      <td>False</td>\n",
              "      <td>False</td>\n",
              "      <td>False</td>\n",
              "      <td>False</td>\n",
              "      <td>False</td>\n",
              "      <td>True</td>\n",
              "      <td>True</td>\n",
              "      <td>True</td>\n",
              "    </tr>\n",
              "    <tr>\n",
              "      <th>7</th>\n",
              "      <td>False</td>\n",
              "      <td>False</td>\n",
              "      <td>False</td>\n",
              "      <td>False</td>\n",
              "      <td>False</td>\n",
              "      <td>False</td>\n",
              "      <td>True</td>\n",
              "      <td>True</td>\n",
              "      <td>True</td>\n",
              "    </tr>\n",
              "    <tr>\n",
              "      <th>8</th>\n",
              "      <td>False</td>\n",
              "      <td>False</td>\n",
              "      <td>False</td>\n",
              "      <td>False</td>\n",
              "      <td>False</td>\n",
              "      <td>False</td>\n",
              "      <td>True</td>\n",
              "      <td>True</td>\n",
              "      <td>True</td>\n",
              "    </tr>\n",
              "    <tr>\n",
              "      <th>9</th>\n",
              "      <td>False</td>\n",
              "      <td>False</td>\n",
              "      <td>False</td>\n",
              "      <td>False</td>\n",
              "      <td>False</td>\n",
              "      <td>False</td>\n",
              "      <td>True</td>\n",
              "      <td>True</td>\n",
              "      <td>True</td>\n",
              "    </tr>\n",
              "  </tbody>\n",
              "</table>\n",
              "</div>"
            ],
            "text/plain": [
              "    번호_x     이름     국어     수학     영어    국수합   번호_y     사회     과학\n",
              "0  False  False  False  False  False  False  False  False  False\n",
              "1  False  False  False  False  False  False  False  False  False\n",
              "2  False  False  False  False  False  False   True   True   True\n",
              "3  False  False  False  False  False  False   True   True   True\n",
              "4  False  False  False  False  False  False   True   True   True\n",
              "5  False  False  False  False  False  False   True   True   True\n",
              "6  False  False  False  False  False  False   True   True   True\n",
              "7  False  False  False  False  False  False   True   True   True\n",
              "8  False  False  False  False  False  False   True   True   True\n",
              "9  False  False  False  False  False  False   True   True   True"
            ]
          },
          "metadata": {},
          "execution_count": 43
        }
      ]
    },
    {
      "cell_type": "code",
      "metadata": {
        "colab": {
          "base_uri": "https://localhost:8080/",
          "height": 111
        },
        "id": "yjYc0otko1ai",
        "outputId": "d6e25ccf-0163-4ea6-9d28-3e8188e818fb"
      },
      "source": [
        "df4 = df3.dropna()\n",
        "df4"
      ],
      "execution_count": 44,
      "outputs": [
        {
          "output_type": "execute_result",
          "data": {
            "text/html": [
              "<div>\n",
              "<style scoped>\n",
              "    .dataframe tbody tr th:only-of-type {\n",
              "        vertical-align: middle;\n",
              "    }\n",
              "\n",
              "    .dataframe tbody tr th {\n",
              "        vertical-align: top;\n",
              "    }\n",
              "\n",
              "    .dataframe thead th {\n",
              "        text-align: right;\n",
              "    }\n",
              "</style>\n",
              "<table border=\"1\" class=\"dataframe\">\n",
              "  <thead>\n",
              "    <tr style=\"text-align: right;\">\n",
              "      <th></th>\n",
              "      <th>번호_x</th>\n",
              "      <th>이름</th>\n",
              "      <th>국어</th>\n",
              "      <th>수학</th>\n",
              "      <th>영어</th>\n",
              "      <th>국수합</th>\n",
              "      <th>번호_y</th>\n",
              "      <th>사회</th>\n",
              "      <th>과학</th>\n",
              "    </tr>\n",
              "  </thead>\n",
              "  <tbody>\n",
              "    <tr>\n",
              "      <th>0</th>\n",
              "      <td>1</td>\n",
              "      <td>김가가</td>\n",
              "      <td>3.6</td>\n",
              "      <td>58.3</td>\n",
              "      <td>21.2</td>\n",
              "      <td>61.9</td>\n",
              "      <td>1.0</td>\n",
              "      <td>1.8</td>\n",
              "      <td>46.5</td>\n",
              "    </tr>\n",
              "    <tr>\n",
              "      <th>1</th>\n",
              "      <td>2</td>\n",
              "      <td>김나나</td>\n",
              "      <td>54.1</td>\n",
              "      <td>82.6</td>\n",
              "      <td>86.0</td>\n",
              "      <td>136.7</td>\n",
              "      <td>2.0</td>\n",
              "      <td>21.8</td>\n",
              "      <td>67.4</td>\n",
              "    </tr>\n",
              "  </tbody>\n",
              "</table>\n",
              "</div>"
            ],
            "text/plain": [
              "   번호_x   이름    국어    수학    영어    국수합  번호_y    사회    과학\n",
              "0     1  김가가   3.6  58.3  21.2   61.9   1.0   1.8  46.5\n",
              "1     2  김나나  54.1  82.6  86.0  136.7   2.0  21.8  67.4"
            ]
          },
          "metadata": {},
          "execution_count": 44
        }
      ]
    },
    {
      "cell_type": "code",
      "metadata": {
        "colab": {
          "base_uri": "https://localhost:8080/",
          "height": 359
        },
        "id": "dFIzHNJ_o9wN",
        "outputId": "3bae07c6-1582-44f8-da58-6041aba73a5d"
      },
      "source": [
        "df4['과학'] = df4.fillna(0).loc[:, '과학']\n",
        "df4"
      ],
      "execution_count": 55,
      "outputs": [
        {
          "output_type": "execute_result",
          "data": {
            "text/html": [
              "<div>\n",
              "<style scoped>\n",
              "    .dataframe tbody tr th:only-of-type {\n",
              "        vertical-align: middle;\n",
              "    }\n",
              "\n",
              "    .dataframe tbody tr th {\n",
              "        vertical-align: top;\n",
              "    }\n",
              "\n",
              "    .dataframe thead th {\n",
              "        text-align: right;\n",
              "    }\n",
              "</style>\n",
              "<table border=\"1\" class=\"dataframe\">\n",
              "  <thead>\n",
              "    <tr style=\"text-align: right;\">\n",
              "      <th></th>\n",
              "      <th>번호_x</th>\n",
              "      <th>이름</th>\n",
              "      <th>국어</th>\n",
              "      <th>수학</th>\n",
              "      <th>영어</th>\n",
              "      <th>국수합</th>\n",
              "      <th>번호_y</th>\n",
              "      <th>사회</th>\n",
              "      <th>과학</th>\n",
              "    </tr>\n",
              "  </thead>\n",
              "  <tbody>\n",
              "    <tr>\n",
              "      <th>0</th>\n",
              "      <td>1</td>\n",
              "      <td>김가가</td>\n",
              "      <td>3.6</td>\n",
              "      <td>58.3</td>\n",
              "      <td>21.2</td>\n",
              "      <td>61.9</td>\n",
              "      <td>1.0</td>\n",
              "      <td>1.8</td>\n",
              "      <td>46.5</td>\n",
              "    </tr>\n",
              "    <tr>\n",
              "      <th>1</th>\n",
              "      <td>2</td>\n",
              "      <td>김나나</td>\n",
              "      <td>54.1</td>\n",
              "      <td>82.6</td>\n",
              "      <td>86.0</td>\n",
              "      <td>136.7</td>\n",
              "      <td>2.0</td>\n",
              "      <td>21.8</td>\n",
              "      <td>67.4</td>\n",
              "    </tr>\n",
              "    <tr>\n",
              "      <th>2</th>\n",
              "      <td>3</td>\n",
              "      <td>윤가가</td>\n",
              "      <td>38.0</td>\n",
              "      <td>97.3</td>\n",
              "      <td>100.0</td>\n",
              "      <td>135.3</td>\n",
              "      <td>NaN</td>\n",
              "      <td>0.0</td>\n",
              "      <td>0.0</td>\n",
              "    </tr>\n",
              "    <tr>\n",
              "      <th>3</th>\n",
              "      <td>4</td>\n",
              "      <td>윤나나</td>\n",
              "      <td>25.0</td>\n",
              "      <td>18.4</td>\n",
              "      <td>48.3</td>\n",
              "      <td>43.4</td>\n",
              "      <td>NaN</td>\n",
              "      <td>0.0</td>\n",
              "      <td>0.0</td>\n",
              "    </tr>\n",
              "    <tr>\n",
              "      <th>4</th>\n",
              "      <td>5</td>\n",
              "      <td>임가가</td>\n",
              "      <td>41.1</td>\n",
              "      <td>53.5</td>\n",
              "      <td>27.8</td>\n",
              "      <td>94.6</td>\n",
              "      <td>NaN</td>\n",
              "      <td>0.0</td>\n",
              "      <td>0.0</td>\n",
              "    </tr>\n",
              "    <tr>\n",
              "      <th>5</th>\n",
              "      <td>6</td>\n",
              "      <td>임나나</td>\n",
              "      <td>63.9</td>\n",
              "      <td>17.9</td>\n",
              "      <td>25.4</td>\n",
              "      <td>81.8</td>\n",
              "      <td>NaN</td>\n",
              "      <td>0.0</td>\n",
              "      <td>0.0</td>\n",
              "    </tr>\n",
              "    <tr>\n",
              "      <th>6</th>\n",
              "      <td>7</td>\n",
              "      <td>홍가가</td>\n",
              "      <td>76.0</td>\n",
              "      <td>88.6</td>\n",
              "      <td>100.0</td>\n",
              "      <td>164.6</td>\n",
              "      <td>NaN</td>\n",
              "      <td>0.0</td>\n",
              "      <td>0.0</td>\n",
              "    </tr>\n",
              "    <tr>\n",
              "      <th>7</th>\n",
              "      <td>8</td>\n",
              "      <td>홍나나</td>\n",
              "      <td>0.0</td>\n",
              "      <td>62.9</td>\n",
              "      <td>64.8</td>\n",
              "      <td>62.9</td>\n",
              "      <td>NaN</td>\n",
              "      <td>0.0</td>\n",
              "      <td>0.0</td>\n",
              "    </tr>\n",
              "    <tr>\n",
              "      <th>8</th>\n",
              "      <td>9</td>\n",
              "      <td>홍다다</td>\n",
              "      <td>52.1</td>\n",
              "      <td>6.6</td>\n",
              "      <td>63.5</td>\n",
              "      <td>58.7</td>\n",
              "      <td>NaN</td>\n",
              "      <td>0.0</td>\n",
              "      <td>0.0</td>\n",
              "    </tr>\n",
              "    <tr>\n",
              "      <th>9</th>\n",
              "      <td>10</td>\n",
              "      <td>홍길동</td>\n",
              "      <td>0.0</td>\n",
              "      <td>28.2</td>\n",
              "      <td>69.5</td>\n",
              "      <td>28.2</td>\n",
              "      <td>NaN</td>\n",
              "      <td>0.0</td>\n",
              "      <td>0.0</td>\n",
              "    </tr>\n",
              "  </tbody>\n",
              "</table>\n",
              "</div>"
            ],
            "text/plain": [
              "   번호_x   이름    국어    수학     영어    국수합  번호_y    사회    과학\n",
              "0     1  김가가   3.6  58.3   21.2   61.9   1.0   1.8  46.5\n",
              "1     2  김나나  54.1  82.6   86.0  136.7   2.0  21.8  67.4\n",
              "2     3  윤가가  38.0  97.3  100.0  135.3   NaN   0.0   0.0\n",
              "3     4  윤나나  25.0  18.4   48.3   43.4   NaN   0.0   0.0\n",
              "4     5  임가가  41.1  53.5   27.8   94.6   NaN   0.0   0.0\n",
              "5     6  임나나  63.9  17.9   25.4   81.8   NaN   0.0   0.0\n",
              "6     7  홍가가  76.0  88.6  100.0  164.6   NaN   0.0   0.0\n",
              "7     8  홍나나   0.0  62.9   64.8   62.9   NaN   0.0   0.0\n",
              "8     9  홍다다  52.1   6.6   63.5   58.7   NaN   0.0   0.0\n",
              "9    10  홍길동   0.0  28.2   69.5   28.2   NaN   0.0   0.0"
            ]
          },
          "metadata": {},
          "execution_count": 55
        }
      ]
    },
    {
      "cell_type": "code",
      "metadata": {
        "colab": {
          "base_uri": "https://localhost:8080/",
          "height": 359
        },
        "id": "Fyobk4vbpZH3",
        "outputId": "44e04d9d-e1b2-4495-dbaa-8885e20cf371"
      },
      "source": [
        "df4['번호_y'] = df4.fillna(method='ffill').loc[:, '번호_y']\n",
        "df4"
      ],
      "execution_count": 56,
      "outputs": [
        {
          "output_type": "execute_result",
          "data": {
            "text/html": [
              "<div>\n",
              "<style scoped>\n",
              "    .dataframe tbody tr th:only-of-type {\n",
              "        vertical-align: middle;\n",
              "    }\n",
              "\n",
              "    .dataframe tbody tr th {\n",
              "        vertical-align: top;\n",
              "    }\n",
              "\n",
              "    .dataframe thead th {\n",
              "        text-align: right;\n",
              "    }\n",
              "</style>\n",
              "<table border=\"1\" class=\"dataframe\">\n",
              "  <thead>\n",
              "    <tr style=\"text-align: right;\">\n",
              "      <th></th>\n",
              "      <th>번호_x</th>\n",
              "      <th>이름</th>\n",
              "      <th>국어</th>\n",
              "      <th>수학</th>\n",
              "      <th>영어</th>\n",
              "      <th>국수합</th>\n",
              "      <th>번호_y</th>\n",
              "      <th>사회</th>\n",
              "      <th>과학</th>\n",
              "    </tr>\n",
              "  </thead>\n",
              "  <tbody>\n",
              "    <tr>\n",
              "      <th>0</th>\n",
              "      <td>1</td>\n",
              "      <td>김가가</td>\n",
              "      <td>3.6</td>\n",
              "      <td>58.3</td>\n",
              "      <td>21.2</td>\n",
              "      <td>61.9</td>\n",
              "      <td>1.0</td>\n",
              "      <td>1.8</td>\n",
              "      <td>46.5</td>\n",
              "    </tr>\n",
              "    <tr>\n",
              "      <th>1</th>\n",
              "      <td>2</td>\n",
              "      <td>김나나</td>\n",
              "      <td>54.1</td>\n",
              "      <td>82.6</td>\n",
              "      <td>86.0</td>\n",
              "      <td>136.7</td>\n",
              "      <td>2.0</td>\n",
              "      <td>21.8</td>\n",
              "      <td>67.4</td>\n",
              "    </tr>\n",
              "    <tr>\n",
              "      <th>2</th>\n",
              "      <td>3</td>\n",
              "      <td>윤가가</td>\n",
              "      <td>38.0</td>\n",
              "      <td>97.3</td>\n",
              "      <td>100.0</td>\n",
              "      <td>135.3</td>\n",
              "      <td>2.0</td>\n",
              "      <td>0.0</td>\n",
              "      <td>0.0</td>\n",
              "    </tr>\n",
              "    <tr>\n",
              "      <th>3</th>\n",
              "      <td>4</td>\n",
              "      <td>윤나나</td>\n",
              "      <td>25.0</td>\n",
              "      <td>18.4</td>\n",
              "      <td>48.3</td>\n",
              "      <td>43.4</td>\n",
              "      <td>2.0</td>\n",
              "      <td>0.0</td>\n",
              "      <td>0.0</td>\n",
              "    </tr>\n",
              "    <tr>\n",
              "      <th>4</th>\n",
              "      <td>5</td>\n",
              "      <td>임가가</td>\n",
              "      <td>41.1</td>\n",
              "      <td>53.5</td>\n",
              "      <td>27.8</td>\n",
              "      <td>94.6</td>\n",
              "      <td>2.0</td>\n",
              "      <td>0.0</td>\n",
              "      <td>0.0</td>\n",
              "    </tr>\n",
              "    <tr>\n",
              "      <th>5</th>\n",
              "      <td>6</td>\n",
              "      <td>임나나</td>\n",
              "      <td>63.9</td>\n",
              "      <td>17.9</td>\n",
              "      <td>25.4</td>\n",
              "      <td>81.8</td>\n",
              "      <td>2.0</td>\n",
              "      <td>0.0</td>\n",
              "      <td>0.0</td>\n",
              "    </tr>\n",
              "    <tr>\n",
              "      <th>6</th>\n",
              "      <td>7</td>\n",
              "      <td>홍가가</td>\n",
              "      <td>76.0</td>\n",
              "      <td>88.6</td>\n",
              "      <td>100.0</td>\n",
              "      <td>164.6</td>\n",
              "      <td>2.0</td>\n",
              "      <td>0.0</td>\n",
              "      <td>0.0</td>\n",
              "    </tr>\n",
              "    <tr>\n",
              "      <th>7</th>\n",
              "      <td>8</td>\n",
              "      <td>홍나나</td>\n",
              "      <td>0.0</td>\n",
              "      <td>62.9</td>\n",
              "      <td>64.8</td>\n",
              "      <td>62.9</td>\n",
              "      <td>2.0</td>\n",
              "      <td>0.0</td>\n",
              "      <td>0.0</td>\n",
              "    </tr>\n",
              "    <tr>\n",
              "      <th>8</th>\n",
              "      <td>9</td>\n",
              "      <td>홍다다</td>\n",
              "      <td>52.1</td>\n",
              "      <td>6.6</td>\n",
              "      <td>63.5</td>\n",
              "      <td>58.7</td>\n",
              "      <td>2.0</td>\n",
              "      <td>0.0</td>\n",
              "      <td>0.0</td>\n",
              "    </tr>\n",
              "    <tr>\n",
              "      <th>9</th>\n",
              "      <td>10</td>\n",
              "      <td>홍길동</td>\n",
              "      <td>0.0</td>\n",
              "      <td>28.2</td>\n",
              "      <td>69.5</td>\n",
              "      <td>28.2</td>\n",
              "      <td>2.0</td>\n",
              "      <td>0.0</td>\n",
              "      <td>0.0</td>\n",
              "    </tr>\n",
              "  </tbody>\n",
              "</table>\n",
              "</div>"
            ],
            "text/plain": [
              "   번호_x   이름    국어    수학     영어    국수합  번호_y    사회    과학\n",
              "0     1  김가가   3.6  58.3   21.2   61.9   1.0   1.8  46.5\n",
              "1     2  김나나  54.1  82.6   86.0  136.7   2.0  21.8  67.4\n",
              "2     3  윤가가  38.0  97.3  100.0  135.3   2.0   0.0   0.0\n",
              "3     4  윤나나  25.0  18.4   48.3   43.4   2.0   0.0   0.0\n",
              "4     5  임가가  41.1  53.5   27.8   94.6   2.0   0.0   0.0\n",
              "5     6  임나나  63.9  17.9   25.4   81.8   2.0   0.0   0.0\n",
              "6     7  홍가가  76.0  88.6  100.0  164.6   2.0   0.0   0.0\n",
              "7     8  홍나나   0.0  62.9   64.8   62.9   2.0   0.0   0.0\n",
              "8     9  홍다다  52.1   6.6   63.5   58.7   2.0   0.0   0.0\n",
              "9    10  홍길동   0.0  28.2   69.5   28.2   2.0   0.0   0.0"
            ]
          },
          "metadata": {},
          "execution_count": 56
        }
      ]
    }
  ]
}